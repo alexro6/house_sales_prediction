{
  "nbformat": 4,
  "nbformat_minor": 0,
  "metadata": {
    "colab": {
      "name": "Data Collection.ipynb",
      "provenance": [],
      "collapsed_sections": []
    },
    "kernelspec": {
      "name": "python3",
      "display_name": "Python 3"
    },
    "language_info": {
      "name": "python"
    }
  },
  "cells": [
    {
      "cell_type": "code",
      "metadata": {
        "id": "Ck_Zcyqar3wM"
      },
      "source": [
        "import pandas as pd\n",
        "import numpy as np"
      ],
      "execution_count": 18,
      "outputs": []
    },
    {
      "cell_type": "code",
      "metadata": {
        "colab": {
          "base_uri": "https://localhost:8080/"
        },
        "id": "Q8_WLwzMs5yL",
        "outputId": "6b62af66-d848-4bf0-d2f2-33e31af5d83d"
      },
      "source": [
        "from google.colab import drive\n",
        "drive.mount('/content/drive')"
      ],
      "execution_count": 19,
      "outputs": [
        {
          "output_type": "stream",
          "name": "stdout",
          "text": [
            "Drive already mounted at /content/drive; to attempt to forcibly remount, call drive.mount(\"/content/drive\", force_remount=True).\n"
          ]
        }
      ]
    },
    {
      "cell_type": "code",
      "metadata": {
        "colab": {
          "base_uri": "https://localhost:8080/",
          "height": 310
        },
        "id": "iRgENB5Xs44B",
        "outputId": "9c3bcc26-2eee-422f-ef82-0c372498247c"
      },
      "source": [
        "df = pd.read_csv('/content/drive/MyDrive/Project_HP/data.csv')\n",
        "df.head()"
      ],
      "execution_count": 52,
      "outputs": [
        {
          "output_type": "execute_result",
          "data": {
            "text/html": [
              "<div>\n",
              "<style scoped>\n",
              "    .dataframe tbody tr th:only-of-type {\n",
              "        vertical-align: middle;\n",
              "    }\n",
              "\n",
              "    .dataframe tbody tr th {\n",
              "        vertical-align: top;\n",
              "    }\n",
              "\n",
              "    .dataframe thead th {\n",
              "        text-align: right;\n",
              "    }\n",
              "</style>\n",
              "<table border=\"1\" class=\"dataframe\">\n",
              "  <thead>\n",
              "    <tr style=\"text-align: right;\">\n",
              "      <th></th>\n",
              "      <th>status</th>\n",
              "      <th>private pool</th>\n",
              "      <th>propertyType</th>\n",
              "      <th>street</th>\n",
              "      <th>baths</th>\n",
              "      <th>homeFacts</th>\n",
              "      <th>fireplace</th>\n",
              "      <th>city</th>\n",
              "      <th>schools</th>\n",
              "      <th>sqft</th>\n",
              "      <th>zipcode</th>\n",
              "      <th>beds</th>\n",
              "      <th>state</th>\n",
              "      <th>stories</th>\n",
              "      <th>mls-id</th>\n",
              "      <th>PrivatePool</th>\n",
              "      <th>MlsId</th>\n",
              "      <th>target</th>\n",
              "    </tr>\n",
              "  </thead>\n",
              "  <tbody>\n",
              "    <tr>\n",
              "      <th>0</th>\n",
              "      <td>Active</td>\n",
              "      <td>NaN</td>\n",
              "      <td>Single Family Home</td>\n",
              "      <td>240 Heather Ln</td>\n",
              "      <td>3.5</td>\n",
              "      <td>{'atAGlanceFacts': [{'factValue': '2019', 'fac...</td>\n",
              "      <td>Gas Logs</td>\n",
              "      <td>Southern Pines</td>\n",
              "      <td>[{'rating': ['4', '4', '7', 'NR', '4', '7', 'N...</td>\n",
              "      <td>2900</td>\n",
              "      <td>28387</td>\n",
              "      <td>4</td>\n",
              "      <td>NC</td>\n",
              "      <td>NaN</td>\n",
              "      <td>NaN</td>\n",
              "      <td>NaN</td>\n",
              "      <td>611019</td>\n",
              "      <td>$418,000</td>\n",
              "    </tr>\n",
              "    <tr>\n",
              "      <th>1</th>\n",
              "      <td>for sale</td>\n",
              "      <td>NaN</td>\n",
              "      <td>single-family home</td>\n",
              "      <td>12911 E Heroy Ave</td>\n",
              "      <td>3 Baths</td>\n",
              "      <td>{'atAGlanceFacts': [{'factValue': '2019', 'fac...</td>\n",
              "      <td>NaN</td>\n",
              "      <td>Spokane Valley</td>\n",
              "      <td>[{'rating': ['4/10', 'None/10', '4/10'], 'data...</td>\n",
              "      <td>1,947 sqft</td>\n",
              "      <td>99216</td>\n",
              "      <td>3 Beds</td>\n",
              "      <td>WA</td>\n",
              "      <td>2.0</td>\n",
              "      <td>NaN</td>\n",
              "      <td>NaN</td>\n",
              "      <td>201916904</td>\n",
              "      <td>$310,000</td>\n",
              "    </tr>\n",
              "    <tr>\n",
              "      <th>2</th>\n",
              "      <td>for sale</td>\n",
              "      <td>NaN</td>\n",
              "      <td>single-family home</td>\n",
              "      <td>2005 Westridge Rd</td>\n",
              "      <td>2 Baths</td>\n",
              "      <td>{'atAGlanceFacts': [{'factValue': '1961', 'fac...</td>\n",
              "      <td>yes</td>\n",
              "      <td>Los Angeles</td>\n",
              "      <td>[{'rating': ['8/10', '4/10', '8/10'], 'data': ...</td>\n",
              "      <td>3,000 sqft</td>\n",
              "      <td>90049</td>\n",
              "      <td>3 Beds</td>\n",
              "      <td>CA</td>\n",
              "      <td>1.0</td>\n",
              "      <td>NaN</td>\n",
              "      <td>yes</td>\n",
              "      <td>FR19221027</td>\n",
              "      <td>$2,895,000</td>\n",
              "    </tr>\n",
              "    <tr>\n",
              "      <th>3</th>\n",
              "      <td>for sale</td>\n",
              "      <td>NaN</td>\n",
              "      <td>single-family home</td>\n",
              "      <td>4311 Livingston Ave</td>\n",
              "      <td>8 Baths</td>\n",
              "      <td>{'atAGlanceFacts': [{'factValue': '2006', 'fac...</td>\n",
              "      <td>yes</td>\n",
              "      <td>Dallas</td>\n",
              "      <td>[{'rating': ['9/10', '9/10', '10/10', '9/10'],...</td>\n",
              "      <td>6,457 sqft</td>\n",
              "      <td>75205</td>\n",
              "      <td>5 Beds</td>\n",
              "      <td>TX</td>\n",
              "      <td>3.0</td>\n",
              "      <td>NaN</td>\n",
              "      <td>NaN</td>\n",
              "      <td>14191809</td>\n",
              "      <td>$2,395,000</td>\n",
              "    </tr>\n",
              "    <tr>\n",
              "      <th>4</th>\n",
              "      <td>for sale</td>\n",
              "      <td>NaN</td>\n",
              "      <td>lot/land</td>\n",
              "      <td>1524 Kiscoe St</td>\n",
              "      <td>NaN</td>\n",
              "      <td>{'atAGlanceFacts': [{'factValue': '', 'factLab...</td>\n",
              "      <td>NaN</td>\n",
              "      <td>Palm Bay</td>\n",
              "      <td>[{'rating': ['4/10', '5/10', '5/10'], 'data': ...</td>\n",
              "      <td>NaN</td>\n",
              "      <td>32908</td>\n",
              "      <td>NaN</td>\n",
              "      <td>FL</td>\n",
              "      <td>NaN</td>\n",
              "      <td>NaN</td>\n",
              "      <td>NaN</td>\n",
              "      <td>861745</td>\n",
              "      <td>$5,000</td>\n",
              "    </tr>\n",
              "  </tbody>\n",
              "</table>\n",
              "</div>"
            ],
            "text/plain": [
              "     status private pool  ...       MlsId      target\n",
              "0    Active          NaN  ...      611019    $418,000\n",
              "1  for sale          NaN  ...   201916904    $310,000\n",
              "2  for sale          NaN  ...  FR19221027  $2,895,000\n",
              "3  for sale          NaN  ...    14191809  $2,395,000\n",
              "4  for sale          NaN  ...      861745      $5,000\n",
              "\n",
              "[5 rows x 18 columns]"
            ]
          },
          "metadata": {},
          "execution_count": 52
        }
      ]
    },
    {
      "cell_type": "code",
      "metadata": {
        "id": "PnuM9yZhBosb"
      },
      "source": [
        "#create functions to retain the real values for 'homeFacts'\n",
        "def get_yearbuilt(x):\n",
        "    x = x.get('atAGlanceFacts', -1)\n",
        "    if x == -1: return -1\n",
        "    x = x[0]\n",
        "    if x.get('factLabel') == 'Year built':\n",
        "        x = x.get('factValue')\n",
        "    try:\n",
        "        x = int(x)\n",
        "    except:\n",
        "        x = np.nan\n",
        "    return x\n",
        "\n",
        "def get_remodeledyear(x):\n",
        "    x = x.get('atAGlanceFacts', -1)\n",
        "    if x == -1: return -1\n",
        "    x = x[1]\n",
        "    if x.get('factLabel') == 'Remodeled year':\n",
        "        x = x.get('factValue')\n",
        "    try:\n",
        "        x = int(x)\n",
        "    except:\n",
        "        x = np.nan\n",
        "    return x\n",
        "\n",
        "def get_heating(x):\n",
        "    x = x.get('atAGlanceFacts', -1)\n",
        "    if x == -1: return -1\n",
        "    x = x[2]\n",
        "    if x.get('factLabel') == 'Heating':\n",
        "        x = x.get('factValue')\n",
        "    try:\n",
        "        x = str(x)\n",
        "    except:\n",
        "        x = np.nan\n",
        "    return x\n",
        "\n",
        "def get_cooling(x):\n",
        "    x = x.get('atAGlanceFacts', -1)\n",
        "    if x == -1: return -1\n",
        "    x = x[3]\n",
        "    if x.get('factLabel') == 'Cooling':\n",
        "        x = x.get('factValue')\n",
        "    try:\n",
        "        x = str(x)\n",
        "    except:\n",
        "        x = np.nan\n",
        "    return x\n",
        "\n",
        "def get_parking(x):\n",
        "    x = x.get('atAGlanceFacts', -1)\n",
        "    if x == -1: return -1\n",
        "    x = x[4]\n",
        "    if x.get('factLabel') == 'Parking':\n",
        "        x = x.get('factValue')\n",
        "    try:\n",
        "        x = str(x)\n",
        "    except:\n",
        "        x = np.nan\n",
        "    return x\n",
        "\n",
        "def get_lotsize(x):\n",
        "    x = x.get('atAGlanceFacts', -1)\n",
        "    if x == -1: return -1\n",
        "    x = x[5]\n",
        "    if x.get('factLabel') == 'lotsize':\n",
        "        x = x.get('factValue')\n",
        "    try:\n",
        "        x = str(x)\n",
        "    except:\n",
        "        x = np.nan\n",
        "    return x\n",
        "\n",
        "def get_pricesqft(x):\n",
        "    x = x.get('atAGlanceFacts', -1)\n",
        "    if x == -1: return -1\n",
        "    x = x[6]\n",
        "    if x.get('factLabel') == 'Price/sqft':\n",
        "        x = x.get('factValue')\n",
        "    try:\n",
        "        x = str(x)\n",
        "    except:\n",
        "        x = np.nan\n",
        "    return x"
      ],
      "execution_count": 53,
      "outputs": []
    },
    {
      "cell_type": "code",
      "metadata": {
        "id": "AprGuO4avAHi"
      },
      "source": [
        "#apply functions to get new columns\n",
        "df['homeFacts'] = df['homeFacts'].apply(eval)\n",
        "df['year_built'] = df['homeFacts'].apply(get_yearbuilt)\n",
        "df['remodeled_year'] = df['homeFacts'].apply(get_remodeledyear)\n",
        "df['heating'] = df['homeFacts'].apply(get_heating)\n",
        "df['cooling'] = df['homeFacts'].apply(get_cooling)\n",
        "df['parking'] = df['homeFacts'].apply(get_parking)\n",
        "df['lotsize'] = df['homeFacts'].apply(get_lotsize)\n",
        "df['price_sqft'] = df['homeFacts'].apply(get_pricesqft)"
      ],
      "execution_count": 55,
      "outputs": []
    },
    {
      "cell_type": "code",
      "metadata": {
        "id": "w-pIyO57E_Ug"
      },
      "source": [
        "#drop the former 'homeFacts' column\n",
        "df.drop('homeFacts', axis=1, inplace=True)"
      ],
      "execution_count": 56,
      "outputs": []
    },
    {
      "cell_type": "code",
      "metadata": {
        "id": "w9jM8RLsSrYd"
      },
      "source": [
        "#extract schools names\n",
        "s = df['schools'].apply(lambda st: st[st.find(\"name\"):st.find(\"]}]\")+1])\n",
        "s = s.str.replace(r\"[\\\"\\']\", '')\n",
        "s = s.apply(lambda st: st[st.find(\"[\")+1:st.find(\"]\")])\n",
        "new_df = s.to_frame()\n",
        "new_df.rename(columns={'schools':'schools_names'}, inplace=True)\n",
        "df = df.join(new_df)"
      ],
      "execution_count": 65,
      "outputs": []
    },
    {
      "cell_type": "code",
      "metadata": {
        "id": "uRNfvXS_X0T8"
      },
      "source": [
        "#extract schools grades\n",
        "s = df['schools'].apply(lambda st: st[st.find(\"Grades\"):st.find(\"name\")+1])\n",
        "s = s.str.replace(r\"[\\\"\\']\", '')\n",
        "s = s.apply(lambda st: st[st.find(\"[\")+1:st.find(\"]\")])\n",
        "new_df = s.to_frame()\n",
        "new_df.rename(columns={'schools':'schools_grades'}, inplace=True)\n",
        "df = df.join(new_df)"
      ],
      "execution_count": 68,
      "outputs": []
    },
    {
      "cell_type": "code",
      "metadata": {
        "id": "3y-DpwIaY1sq"
      },
      "source": [
        "#extract schools distances\n",
        "s = df['schools'].apply(lambda st: st[st.find(\"Distance\"):st.find(\"Grades\")+1])\n",
        "s = s.str.replace(r\"[\\\"\\']\", '')\n",
        "s = s.apply(lambda st: st[st.find(\"[\")+1:st.find(\"]\")])\n",
        "new_df = s.to_frame()\n",
        "new_df.rename(columns={'schools':'schools_distances'}, inplace=True)\n",
        "df = df.join(new_df)"
      ],
      "execution_count": 70,
      "outputs": []
    },
    {
      "cell_type": "code",
      "metadata": {
        "id": "dWVfA2NhZH1i"
      },
      "source": [
        "#extract schools ratings\n",
        "s = df['schools'].apply(lambda st: st[st.find(\"rating\"):st.find(\"data\")+1])\n",
        "s = s.str.replace(r\"[\\\"\\']\", '')\n",
        "s = s.apply(lambda st: st[st.find(\"[\")+1:st.find(\"]\")])\n",
        "new_df = s.to_frame()\n",
        "new_df.rename(columns={'schools':'schools_ratings'}, inplace=True)\n",
        "df = df.join(new_df)"
      ],
      "execution_count": 72,
      "outputs": []
    },
    {
      "cell_type": "code",
      "metadata": {
        "id": "9ZNGVmzXWSZI"
      },
      "source": [
        "#drop the former schools column\n",
        "df.drop('schools', axis=1, inplace=True)"
      ],
      "execution_count": 74,
      "outputs": []
    },
    {
      "cell_type": "code",
      "metadata": {
        "id": "xTbHiCtQjkMH"
      },
      "source": [
        "#saving the csv\n",
        "df.to_csv('/content/drive/MyDrive/Project_HP/data_raw.csv', index=False)"
      ],
      "execution_count": 76,
      "outputs": []
    }
  ]
}