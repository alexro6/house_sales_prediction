{
 "cells": [
  {
   "cell_type": "code",
   "execution_count": 1,
   "id": "cc3ee435-bf7d-4176-969c-2a5365280a9b",
   "metadata": {},
   "outputs": [],
   "source": [
    "import pandas as pd\n",
    "import numpy as np\n",
    "\n",
    "from sklearn.preprocessing import StandardScaler\n",
    "from sklearn.model_selection import train_test_split\n",
    "from sklearn.metrics import mean_squared_error, r2_score\n",
    "from sklearn.ensemble import StackingRegressor\n",
    "from sklearn.neighbors import KNeighborsRegressor\n",
    "from sklearn.neural_network import MLPRegressor\n",
    "from sklearn.tree import DecisionTreeRegressor\n",
    "from sklearn.linear_model import LinearRegression\n",
    "from sklearn.ensemble import RandomForestRegressor\n",
    "from sklearn.svm import LinearSVR\n",
    "\n",
    "import warnings\n",
    "warnings.filterwarnings('ignore')"
   ]
  },
  {
   "cell_type": "code",
   "execution_count": 2,
   "id": "744a4429-5e9f-408a-bb02-b2a6d156dca7",
   "metadata": {},
   "outputs": [],
   "source": [
    "url = \"https://raw.githubusercontent.com/leilaff89/house_sales_prediction/main/datasets/house_prices_ml_features.csv\""
   ]
  },
  {
   "cell_type": "code",
   "execution_count": 3,
   "id": "c0668447-9cb9-422b-9557-d04ca445eaa6",
   "metadata": {},
   "outputs": [],
   "source": [
    "df = pd.read_csv(url)"
   ]
  },
  {
   "cell_type": "code",
   "execution_count": 4,
   "id": "59e17227-c96d-4cc1-a17a-142c6b226e4d",
   "metadata": {},
   "outputs": [
    {
     "data": {
      "text/html": [
       "<div>\n",
       "<style scoped>\n",
       "    .dataframe tbody tr th:only-of-type {\n",
       "        vertical-align: middle;\n",
       "    }\n",
       "\n",
       "    .dataframe tbody tr th {\n",
       "        vertical-align: top;\n",
       "    }\n",
       "\n",
       "    .dataframe thead th {\n",
       "        text-align: right;\n",
       "    }\n",
       "</style>\n",
       "<table border=\"1\" class=\"dataframe\">\n",
       "  <thead>\n",
       "    <tr style=\"text-align: right;\">\n",
       "      <th></th>\n",
       "      <th>SUBURB</th>\n",
       "      <th>PRICE</th>\n",
       "      <th>BEDROOMS</th>\n",
       "      <th>BATHROOMS</th>\n",
       "      <th>GARAGE</th>\n",
       "      <th>FLOOR_AREA</th>\n",
       "      <th>BUILD_YEAR</th>\n",
       "      <th>CBD_DIST</th>\n",
       "      <th>NEAREST_STN_DIST</th>\n",
       "      <th>LATITUDE</th>\n",
       "      <th>LONGITUDE</th>\n",
       "      <th>NEAREST_SCH_DIST</th>\n",
       "      <th>NEAREST_SCH_RANK</th>\n",
       "      <th>YEAR_SOLD</th>\n",
       "    </tr>\n",
       "  </thead>\n",
       "  <tbody>\n",
       "    <tr>\n",
       "      <th>0</th>\n",
       "      <td>13.151488</td>\n",
       "      <td>12.807653</td>\n",
       "      <td>3</td>\n",
       "      <td>2</td>\n",
       "      <td>2.0</td>\n",
       "      <td>4.934474</td>\n",
       "      <td>2013</td>\n",
       "      <td>26900</td>\n",
       "      <td>8.496990</td>\n",
       "      <td>-32.193470</td>\n",
       "      <td>115.859554</td>\n",
       "      <td>1.709161</td>\n",
       "      <td>129.0</td>\n",
       "      <td>2019</td>\n",
       "    </tr>\n",
       "    <tr>\n",
       "      <th>1</th>\n",
       "      <td>12.571507</td>\n",
       "      <td>12.567237</td>\n",
       "      <td>3</td>\n",
       "      <td>1</td>\n",
       "      <td>1.0</td>\n",
       "      <td>4.454347</td>\n",
       "      <td>1979</td>\n",
       "      <td>22600</td>\n",
       "      <td>7.549609</td>\n",
       "      <td>-32.120578</td>\n",
       "      <td>115.993579</td>\n",
       "      <td>0.500277</td>\n",
       "      <td>113.0</td>\n",
       "      <td>2015</td>\n",
       "    </tr>\n",
       "    <tr>\n",
       "      <th>2</th>\n",
       "      <td>13.300859</td>\n",
       "      <td>13.437174</td>\n",
       "      <td>3</td>\n",
       "      <td>2</td>\n",
       "      <td>8.0</td>\n",
       "      <td>4.836282</td>\n",
       "      <td>1999</td>\n",
       "      <td>5900</td>\n",
       "      <td>6.230481</td>\n",
       "      <td>-31.917880</td>\n",
       "      <td>115.907050</td>\n",
       "      <td>-0.065880</td>\n",
       "      <td>29.0</td>\n",
       "      <td>2019</td>\n",
       "    </tr>\n",
       "    <tr>\n",
       "      <th>3</th>\n",
       "      <td>12.831836</td>\n",
       "      <td>12.814479</td>\n",
       "      <td>3</td>\n",
       "      <td>2</td>\n",
       "      <td>2.0</td>\n",
       "      <td>5.062595</td>\n",
       "      <td>2003</td>\n",
       "      <td>36300</td>\n",
       "      <td>7.649693</td>\n",
       "      <td>-31.654280</td>\n",
       "      <td>115.702200</td>\n",
       "      <td>-0.384423</td>\n",
       "      <td>39.0</td>\n",
       "      <td>2018</td>\n",
       "    </tr>\n",
       "    <tr>\n",
       "      <th>4</th>\n",
       "      <td>13.167607</td>\n",
       "      <td>13.190022</td>\n",
       "      <td>4</td>\n",
       "      <td>2</td>\n",
       "      <td>4.0</td>\n",
       "      <td>5.509388</td>\n",
       "      <td>2002</td>\n",
       "      <td>23100</td>\n",
       "      <td>8.268732</td>\n",
       "      <td>-32.159590</td>\n",
       "      <td>115.849480</td>\n",
       "      <td>0.797797</td>\n",
       "      <td>129.0</td>\n",
       "      <td>2019</td>\n",
       "    </tr>\n",
       "  </tbody>\n",
       "</table>\n",
       "</div>"
      ],
      "text/plain": [
       "      SUBURB      PRICE  BEDROOMS  BATHROOMS  GARAGE  FLOOR_AREA  BUILD_YEAR  \\\n",
       "0  13.151488  12.807653         3          2     2.0    4.934474        2013   \n",
       "1  12.571507  12.567237         3          1     1.0    4.454347        1979   \n",
       "2  13.300859  13.437174         3          2     8.0    4.836282        1999   \n",
       "3  12.831836  12.814479         3          2     2.0    5.062595        2003   \n",
       "4  13.167607  13.190022         4          2     4.0    5.509388        2002   \n",
       "\n",
       "   CBD_DIST  NEAREST_STN_DIST   LATITUDE   LONGITUDE  NEAREST_SCH_DIST  \\\n",
       "0     26900          8.496990 -32.193470  115.859554          1.709161   \n",
       "1     22600          7.549609 -32.120578  115.993579          0.500277   \n",
       "2      5900          6.230481 -31.917880  115.907050         -0.065880   \n",
       "3     36300          7.649693 -31.654280  115.702200         -0.384423   \n",
       "4     23100          8.268732 -32.159590  115.849480          0.797797   \n",
       "\n",
       "   NEAREST_SCH_RANK  YEAR_SOLD  \n",
       "0             129.0       2019  \n",
       "1             113.0       2015  \n",
       "2              29.0       2019  \n",
       "3              39.0       2018  \n",
       "4             129.0       2019  "
      ]
     },
     "execution_count": 4,
     "metadata": {},
     "output_type": "execute_result"
    }
   ],
   "source": [
    "df.head()"
   ]
  },
  {
   "cell_type": "code",
   "execution_count": 5,
   "id": "6b50ee13-e290-420b-8b88-f12ee0cb7653",
   "metadata": {},
   "outputs": [],
   "source": [
    "X = df.drop(columns=['PRICE'],axis =1).values\n",
    "y = df['PRICE'].values"
   ]
  },
  {
   "cell_type": "code",
   "execution_count": 6,
   "id": "e0bb21d6-5ff0-4090-961a-cb81fd4aa556",
   "metadata": {},
   "outputs": [],
   "source": [
    "scaler = StandardScaler()\n",
    "X = scaler.fit_transform(X)"
   ]
  },
  {
   "cell_type": "code",
   "execution_count": 7,
   "id": "595580ee-0b99-4ed3-be82-8aa58df424d7",
   "metadata": {},
   "outputs": [
    {
     "data": {
      "text/plain": [
       "array([[-0.42965461, -0.89997173,  0.23589087, -0.15445854, -0.61014886,\n",
       "         1.09933878,  0.78468341,  0.60007618, -1.45556355, -0.04377577,\n",
       "         2.08739396,  1.39948038,  0.68016718]])"
      ]
     },
     "execution_count": 7,
     "metadata": {},
     "output_type": "execute_result"
    }
   ],
   "source": [
    "X[0:1]"
   ]
  },
  {
   "cell_type": "code",
   "execution_count": 8,
   "id": "be5b7649-8b7c-4fea-bca9-2ba93bba9b94",
   "metadata": {},
   "outputs": [],
   "source": [
    "X_train, X_test, y_train, y_test = train_test_split(X, y, test_size = 0.2, random_state = 2)"
   ]
  },
  {
   "cell_type": "code",
   "execution_count": 9,
   "id": "13725f6c-7ce0-4c0e-8a09-3fc4633d57c2",
   "metadata": {},
   "outputs": [
    {
     "name": "stdout",
     "output_type": "stream",
     "text": [
      "Train set size: (15330, 13) (15330,)\n",
      "Test set size: (3833, 13) (3833,)\n"
     ]
    }
   ],
   "source": [
    "print ('Train set size:', X_train.shape,  y_train.shape)\n",
    "print ('Test set size:', X_test.shape,  y_test.shape)"
   ]
  },
  {
   "cell_type": "code",
   "execution_count": 10,
   "id": "c176cded-dd6a-4ac4-bb3d-2ff202fa8e8b",
   "metadata": {},
   "outputs": [],
   "source": [
    "level0 = list()\n",
    "level0.append(('ann', MLPRegressor(activation = 'tanh', \n",
    "                                   hidden_layer_sizes = (100), \n",
    "                                   solver = 'lbfgs')))\n",
    "level0.append(('svr', LinearSVR(random_state = 0, \n",
    "                                tol = 1e-5, \n",
    "                                C = 1.0, \n",
    "                                loss = 'squared_epsilon_insensitive')))\n",
    "level0.append(('dt', DecisionTreeRegressor(criterion = 'friedman_mse', \n",
    "                                           max_depth = 10, \n",
    "                                           max_features = 'auto', \n",
    "                                           min_samples_leaf = 4, \n",
    "                                           min_samples_split = 10, \n",
    "                                           splitter = 'best')))\n",
    "level0.append(('knn', KNeighborsRegressor(algorithm = 'auto', \n",
    "                                          n_neighbors = 7, \n",
    "                                          p = 1)))"
   ]
  },
  {
   "cell_type": "code",
   "execution_count": 11,
   "id": "ebde5dac-28c1-4b8a-99e5-09e72a262ce3",
   "metadata": {},
   "outputs": [],
   "source": [
    "level1 = LinearRegression()\n",
    "#level1 = RandomForestRegressor(n_estimators=10, random_state=42)\n",
    "#level1 = MLPRegressor(activation = 'tanh', \n",
    "                                   #hidden_layer_sizes = (100), \n",
    "                                   #solver = 'lbfgs')"
   ]
  },
  {
   "cell_type": "code",
   "execution_count": 12,
   "id": "fce759e0-df30-4267-b580-563b7b9b6f0a",
   "metadata": {},
   "outputs": [],
   "source": [
    "model = StackingRegressor(estimators=level0, final_estimator=level1, cv = 5)"
   ]
  },
  {
   "cell_type": "code",
   "execution_count": 13,
   "id": "3b6b3ffa-49e5-4d5a-864f-64a4ff27ce6d",
   "metadata": {},
   "outputs": [
    {
     "data": {
      "text/plain": [
       "StackingRegressor(cv=5,\n",
       "                  estimators=[('ann',\n",
       "                               MLPRegressor(activation='tanh',\n",
       "                                            hidden_layer_sizes=100,\n",
       "                                            solver='lbfgs')),\n",
       "                              ('svr',\n",
       "                               LinearSVR(loss='squared_epsilon_insensitive',\n",
       "                                         random_state=0, tol=1e-05)),\n",
       "                              ('dt',\n",
       "                               DecisionTreeRegressor(criterion='friedman_mse',\n",
       "                                                     max_depth=10,\n",
       "                                                     max_features='auto',\n",
       "                                                     min_samples_leaf=4,\n",
       "                                                     min_samples_split=10)),\n",
       "                              ('knn', KNeighborsRegressor(n_neighbors=7, p=1))],\n",
       "                  final_estimator=LinearRegression())"
      ]
     },
     "execution_count": 13,
     "metadata": {},
     "output_type": "execute_result"
    }
   ],
   "source": [
    "model.fit(X_train, y_train)"
   ]
  },
  {
   "cell_type": "code",
   "execution_count": 14,
   "id": "31dbf53e-27ed-4beb-af40-afb451418aee",
   "metadata": {},
   "outputs": [],
   "source": [
    "yhat_stk = model.predict(X_test)"
   ]
  },
  {
   "cell_type": "code",
   "execution_count": 15,
   "id": "02e44257-d346-4e90-a99a-81658699c732",
   "metadata": {},
   "outputs": [
    {
     "name": "stdout",
     "output_type": "stream",
     "text": [
      "Mean squared error: 0.04\n",
      "Coefficient of determination: 0.85\n"
     ]
    }
   ],
   "source": [
    "mse_stk = mean_squared_error(y_test, yhat_stk)\n",
    "r2_stk = r2_score(y_test, yhat_stk)\n",
    "print(\"Mean squared error: %.2f\" % mse_stk)\n",
    "print(\"Coefficient of determination: %.2f\" % r2_stk)"
   ]
  }
 ],
 "metadata": {
  "kernelspec": {
   "display_name": "Python 3",
   "language": "python",
   "name": "python3"
  },
  "language_info": {
   "codemirror_mode": {
    "name": "ipython",
    "version": 3
   },
   "file_extension": ".py",
   "mimetype": "text/x-python",
   "name": "python",
   "nbconvert_exporter": "python",
   "pygments_lexer": "ipython3",
   "version": "3.8.8"
  }
 },
 "nbformat": 4,
 "nbformat_minor": 5
}
