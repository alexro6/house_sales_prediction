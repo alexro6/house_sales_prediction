{
 "cells": [
  {
   "cell_type": "code",
   "execution_count": 1,
   "id": "cc3ee435-bf7d-4176-969c-2a5365280a9b",
   "metadata": {},
   "outputs": [],
   "source": [
    "import pandas as pd\n",
    "from numpy import mean\n",
    "from numpy import std\n",
    "from sklearn.model_selection import train_test_split\n",
    "from sklearn.preprocessing import StandardScaler\n",
    "from sklearn.model_selection import cross_val_score\n",
    "from sklearn.model_selection import RepeatedKFold\n",
    "from sklearn.neighbors import KNeighborsRegressor\n",
    "from sklearn.neural_network import MLPRegressor\n",
    "from sklearn.tree import DecisionTreeRegressor\n",
    "from sklearn.svm import SVR\n",
    "from matplotlib import pyplot\n",
    "from sklearn import metrics\n",
    "from matplotlib import pyplot"
   ]
  },
  {
   "cell_type": "code",
   "execution_count": 2,
   "id": "744a4429-5e9f-408a-bb02-b2a6d156dca7",
   "metadata": {},
   "outputs": [],
   "source": [
    "url = 'https://raw.githubusercontent.com/leilaff89/house_sales_prediction/main/datasets/house_prices_no_null.csv'"
   ]
  },
  {
   "cell_type": "code",
   "execution_count": 3,
   "id": "c0668447-9cb9-422b-9557-d04ca445eaa6",
   "metadata": {},
   "outputs": [],
   "source": [
    "mld = pd.read_csv(url)"
   ]
  },
  {
   "cell_type": "code",
   "execution_count": 4,
   "id": "cfd9f26d-b5b3-43ce-af4f-dcc254e08a70",
   "metadata": {},
   "outputs": [],
   "source": [
    "dummie = pd.get_dummies(mld[['SUBURB','NEAREST_STN','NEAREST_SCH']])\n",
    "mld = mld.join(dummie)\n",
    "mld = mld.drop(columns=['ADDRESS','LATITUDE','LONGITUDE','SUBURB','NEAREST_STN','NEAREST_SCH'])"
   ]
  },
  {
   "cell_type": "code",
   "execution_count": 5,
   "id": "2f248431-5bef-4c97-a47e-b711ec51f377",
   "metadata": {},
   "outputs": [
    {
     "name": "stdout",
     "output_type": "stream",
     "text": [
      "<class 'pandas.core.frame.DataFrame'>\n",
      "RangeIndex: 19174 entries, 0 to 19173\n",
      "Columns: 468 entries, PRICE to NEAREST_SCH_WOODVALE SECONDARY COLLEGE\n",
      "dtypes: float64(3), int64(11), uint8(454)\n",
      "memory usage: 10.3 MB\n"
     ]
    }
   ],
   "source": [
    "mld.info()"
   ]
  },
  {
   "cell_type": "code",
   "execution_count": 6,
   "id": "59e17227-c96d-4cc1-a17a-142c6b226e4d",
   "metadata": {},
   "outputs": [
    {
     "data": {
      "text/html": [
       "<div>\n",
       "<style scoped>\n",
       "    .dataframe tbody tr th:only-of-type {\n",
       "        vertical-align: middle;\n",
       "    }\n",
       "\n",
       "    .dataframe tbody tr th {\n",
       "        vertical-align: top;\n",
       "    }\n",
       "\n",
       "    .dataframe thead th {\n",
       "        text-align: right;\n",
       "    }\n",
       "</style>\n",
       "<table border=\"1\" class=\"dataframe\">\n",
       "  <thead>\n",
       "    <tr style=\"text-align: right;\">\n",
       "      <th></th>\n",
       "      <th>PRICE</th>\n",
       "      <th>BEDROOMS</th>\n",
       "      <th>BATHROOMS</th>\n",
       "      <th>GARAGE</th>\n",
       "      <th>LAND_AREA</th>\n",
       "      <th>FLOOR_AREA</th>\n",
       "      <th>BUILD_YEAR</th>\n",
       "      <th>CBD_DIST</th>\n",
       "      <th>NEAREST_STN_DIST</th>\n",
       "      <th>POSTCODE</th>\n",
       "      <th>...</th>\n",
       "      <th>NEAREST_SCH_SWAN CHRISTIAN COLLEGE</th>\n",
       "      <th>NEAREST_SCH_SWAN VALLEY ANGLICAN COMMUNITY SCHOOL</th>\n",
       "      <th>NEAREST_SCH_THORNLIE SENIOR HIGH SCHOOL</th>\n",
       "      <th>NEAREST_SCH_TRANBY COLLEGE</th>\n",
       "      <th>NEAREST_SCH_TRINITY COLLEGE</th>\n",
       "      <th>NEAREST_SCH_URSULA FRAYNE CATHOLIC COLLEGE</th>\n",
       "      <th>NEAREST_SCH_WANNEROO SECONDARY COLLEGE</th>\n",
       "      <th>NEAREST_SCH_WESLEY COLLEGE</th>\n",
       "      <th>NEAREST_SCH_WILLETTON SENIOR HIGH SCHOOL</th>\n",
       "      <th>NEAREST_SCH_WOODVALE SECONDARY COLLEGE</th>\n",
       "    </tr>\n",
       "  </thead>\n",
       "  <tbody>\n",
       "    <tr>\n",
       "      <th>0</th>\n",
       "      <td>365000</td>\n",
       "      <td>3</td>\n",
       "      <td>2</td>\n",
       "      <td>2.0</td>\n",
       "      <td>351</td>\n",
       "      <td>139</td>\n",
       "      <td>2013</td>\n",
       "      <td>26900</td>\n",
       "      <td>4900</td>\n",
       "      <td>6167</td>\n",
       "      <td>...</td>\n",
       "      <td>0</td>\n",
       "      <td>0</td>\n",
       "      <td>0</td>\n",
       "      <td>0</td>\n",
       "      <td>0</td>\n",
       "      <td>0</td>\n",
       "      <td>0</td>\n",
       "      <td>0</td>\n",
       "      <td>0</td>\n",
       "      <td>0</td>\n",
       "    </tr>\n",
       "    <tr>\n",
       "      <th>1</th>\n",
       "      <td>287000</td>\n",
       "      <td>3</td>\n",
       "      <td>1</td>\n",
       "      <td>1.0</td>\n",
       "      <td>719</td>\n",
       "      <td>86</td>\n",
       "      <td>1979</td>\n",
       "      <td>22600</td>\n",
       "      <td>1900</td>\n",
       "      <td>6111</td>\n",
       "      <td>...</td>\n",
       "      <td>0</td>\n",
       "      <td>0</td>\n",
       "      <td>0</td>\n",
       "      <td>0</td>\n",
       "      <td>0</td>\n",
       "      <td>0</td>\n",
       "      <td>0</td>\n",
       "      <td>0</td>\n",
       "      <td>0</td>\n",
       "      <td>0</td>\n",
       "    </tr>\n",
       "    <tr>\n",
       "      <th>2</th>\n",
       "      <td>685000</td>\n",
       "      <td>3</td>\n",
       "      <td>2</td>\n",
       "      <td>8.0</td>\n",
       "      <td>552</td>\n",
       "      <td>126</td>\n",
       "      <td>1999</td>\n",
       "      <td>5900</td>\n",
       "      <td>508</td>\n",
       "      <td>6053</td>\n",
       "      <td>...</td>\n",
       "      <td>0</td>\n",
       "      <td>0</td>\n",
       "      <td>0</td>\n",
       "      <td>0</td>\n",
       "      <td>0</td>\n",
       "      <td>0</td>\n",
       "      <td>0</td>\n",
       "      <td>0</td>\n",
       "      <td>0</td>\n",
       "      <td>0</td>\n",
       "    </tr>\n",
       "    <tr>\n",
       "      <th>3</th>\n",
       "      <td>367500</td>\n",
       "      <td>3</td>\n",
       "      <td>2</td>\n",
       "      <td>2.0</td>\n",
       "      <td>398</td>\n",
       "      <td>158</td>\n",
       "      <td>2003</td>\n",
       "      <td>36300</td>\n",
       "      <td>2100</td>\n",
       "      <td>6036</td>\n",
       "      <td>...</td>\n",
       "      <td>0</td>\n",
       "      <td>0</td>\n",
       "      <td>0</td>\n",
       "      <td>0</td>\n",
       "      <td>0</td>\n",
       "      <td>0</td>\n",
       "      <td>0</td>\n",
       "      <td>0</td>\n",
       "      <td>0</td>\n",
       "      <td>0</td>\n",
       "    </tr>\n",
       "    <tr>\n",
       "      <th>4</th>\n",
       "      <td>535000</td>\n",
       "      <td>4</td>\n",
       "      <td>2</td>\n",
       "      <td>4.0</td>\n",
       "      <td>704</td>\n",
       "      <td>247</td>\n",
       "      <td>2002</td>\n",
       "      <td>23100</td>\n",
       "      <td>3900</td>\n",
       "      <td>6164</td>\n",
       "      <td>...</td>\n",
       "      <td>0</td>\n",
       "      <td>0</td>\n",
       "      <td>0</td>\n",
       "      <td>0</td>\n",
       "      <td>0</td>\n",
       "      <td>0</td>\n",
       "      <td>0</td>\n",
       "      <td>0</td>\n",
       "      <td>0</td>\n",
       "      <td>0</td>\n",
       "    </tr>\n",
       "  </tbody>\n",
       "</table>\n",
       "<p>5 rows × 468 columns</p>\n",
       "</div>"
      ],
      "text/plain": [
       "    PRICE  BEDROOMS  BATHROOMS  GARAGE  LAND_AREA  FLOOR_AREA  BUILD_YEAR  \\\n",
       "0  365000         3          2     2.0        351         139        2013   \n",
       "1  287000         3          1     1.0        719          86        1979   \n",
       "2  685000         3          2     8.0        552         126        1999   \n",
       "3  367500         3          2     2.0        398         158        2003   \n",
       "4  535000         4          2     4.0        704         247        2002   \n",
       "\n",
       "   CBD_DIST  NEAREST_STN_DIST  POSTCODE  ...  \\\n",
       "0     26900              4900      6167  ...   \n",
       "1     22600              1900      6111  ...   \n",
       "2      5900               508      6053  ...   \n",
       "3     36300              2100      6036  ...   \n",
       "4     23100              3900      6164  ...   \n",
       "\n",
       "   NEAREST_SCH_SWAN CHRISTIAN COLLEGE  \\\n",
       "0                                   0   \n",
       "1                                   0   \n",
       "2                                   0   \n",
       "3                                   0   \n",
       "4                                   0   \n",
       "\n",
       "   NEAREST_SCH_SWAN VALLEY ANGLICAN COMMUNITY SCHOOL  \\\n",
       "0                                                  0   \n",
       "1                                                  0   \n",
       "2                                                  0   \n",
       "3                                                  0   \n",
       "4                                                  0   \n",
       "\n",
       "   NEAREST_SCH_THORNLIE SENIOR HIGH SCHOOL  NEAREST_SCH_TRANBY COLLEGE  \\\n",
       "0                                        0                           0   \n",
       "1                                        0                           0   \n",
       "2                                        0                           0   \n",
       "3                                        0                           0   \n",
       "4                                        0                           0   \n",
       "\n",
       "   NEAREST_SCH_TRINITY COLLEGE  NEAREST_SCH_URSULA FRAYNE CATHOLIC COLLEGE  \\\n",
       "0                            0                                           0   \n",
       "1                            0                                           0   \n",
       "2                            0                                           0   \n",
       "3                            0                                           0   \n",
       "4                            0                                           0   \n",
       "\n",
       "   NEAREST_SCH_WANNEROO SECONDARY COLLEGE  NEAREST_SCH_WESLEY COLLEGE  \\\n",
       "0                                       0                           0   \n",
       "1                                       0                           0   \n",
       "2                                       0                           0   \n",
       "3                                       0                           0   \n",
       "4                                       0                           0   \n",
       "\n",
       "   NEAREST_SCH_WILLETTON SENIOR HIGH SCHOOL  \\\n",
       "0                                         0   \n",
       "1                                         0   \n",
       "2                                         0   \n",
       "3                                         0   \n",
       "4                                         0   \n",
       "\n",
       "   NEAREST_SCH_WOODVALE SECONDARY COLLEGE  \n",
       "0                                       0  \n",
       "1                                       0  \n",
       "2                                       0  \n",
       "3                                       0  \n",
       "4                                       0  \n",
       "\n",
       "[5 rows x 468 columns]"
      ]
     },
     "execution_count": 6,
     "metadata": {},
     "output_type": "execute_result"
    }
   ],
   "source": [
    "mld.head()"
   ]
  },
  {
   "cell_type": "code",
   "execution_count": 7,
   "id": "6b50ee13-e290-420b-8b88-f12ee0cb7653",
   "metadata": {},
   "outputs": [],
   "source": [
    "X = mld.drop(columns=['PRICE'],axis =1).values\n",
    "y = mld['PRICE'].values\n",
    "\n",
    "#X_train, X_test, y_train, y_test = train_test_split(X, y, test_size=0.2, random_state=40)"
   ]
  },
  {
   "cell_type": "code",
   "execution_count": 8,
   "id": "e0bb21d6-5ff0-4090-961a-cb81fd4aa556",
   "metadata": {},
   "outputs": [],
   "source": [
    "scaler = StandardScaler()\n",
    "X = scaler.fit_transform(X)\n",
    "#X_test = scaler.transform(X_test)"
   ]
  },
  {
   "cell_type": "code",
   "execution_count": 9,
   "id": "8d5b5c12-522f-471c-83fd-52039ed42baf",
   "metadata": {},
   "outputs": [],
   "source": [
    "def get_models():\n",
    "    models = dict()\n",
    "    models['knn'] = KNeighborsRegressor()\n",
    "    models['ann'] = MLPRegressor()\n",
    "    models['dt'] = DecisionTreeRegressor()\n",
    "    models['svm'] = SVR()\n",
    "    return models"
   ]
  },
  {
   "cell_type": "code",
   "execution_count": 10,
   "id": "9ed31c94-c3af-4b7d-b5b8-617f16d18650",
   "metadata": {},
   "outputs": [],
   "source": [
    "def evaluate_model(model, X, y):\n",
    "    cv = RepeatedKFold(n_splits=10, n_repeats=3, random_state=1)\n",
    "    scores = cross_val_score(model, X, y, scoring='r2', cv=cv, n_jobs=-1, error_score='raise')\n",
    "    return scores"
   ]
  },
  {
   "cell_type": "code",
   "execution_count": 11,
   "id": "55497fcd-96cb-4d32-b4ca-0d3a0b5a0061",
   "metadata": {},
   "outputs": [
    {
     "name": "stdout",
     "output_type": "stream",
     "text": [
      ">lr -23585099842274364.000 (35571892635757420.000)\n",
      ">ann -351922.879 (12968.270)\n",
      ">dt -130577.573 (2659.513)\n",
      ">svm -273602.245 (7092.597)\n"
     ]
    },
    {
     "data": {
      "image/png": "[encoded data removed]",
      "text/plain": [
       "<Figure size 432x288 with 1 Axes>"
      ]
     },
     "metadata": {
      "needs_background": "light"
     },
     "output_type": "display_data"
    }
   ],
   "source": [
    "models = get_models()\n",
    "results, names = list(), list()\n",
    "for name, model in models.items():\n",
    "    scores = evaluate_model(model, X, y)\n",
    "    results.append(scores)\n",
    "    names.append(name)\n",
    "    print('>%s %.3f (%.3f)' % (name, mean(scores), std(scores)))\n",
    "\n",
    "pyplot.boxplot(results, labels=names, showmeans=True)\n",
    "pyplot.show()"
   ]
  },
  {
   "cell_type": "code",
   "execution_count": null,
   "id": "c176cded-dd6a-4ac4-bb3d-2ff202fa8e8b",
   "metadata": {},
   "outputs": [],
   "source": []
  },
  {
   "cell_type": "code",
   "execution_count": null,
   "id": "ebde5dac-28c1-4b8a-99e5-09e72a262ce3",
   "metadata": {},
   "outputs": [],
   "source": []
  },
  {
   "cell_type": "code",
   "execution_count": null,
   "id": "fce759e0-df30-4267-b580-563b7b9b6f0a",
   "metadata": {},
   "outputs": [],
   "source": []
  },
  {
   "cell_type": "code",
   "execution_count": null,
   "id": "3b6b3ffa-49e5-4d5a-864f-64a4ff27ce6d",
   "metadata": {},
   "outputs": [],
   "source": []
  },
  {
   "cell_type": "code",
   "execution_count": null,
   "id": "1ca4f28d-a086-4f21-bf89-22021f91c4b4",
   "metadata": {},
   "outputs": [],
   "source": [
    "print('MSE:', metrics.mean_squared_error(y_test, y_pred))"
   ]
  },
  {
   "cell_type": "code",
   "execution_count": null,
   "id": "34f6a5f4-14af-4214-89fa-62f378fba341",
   "metadata": {},
   "outputs": [],
   "source": [
    "from sklearn.decomposition import PCA\n",
    "pca = PCA().fit(X_train)"
   ]
  },
  {
   "cell_type": "code",
   "execution_count": null,
   "id": "ffed67a2-045d-4a13-bb5f-8499df12e1e1",
   "metadata": {},
   "outputs": [],
   "source": [
    "import matplotlib.pyplot as plt\n",
    "import numpy as np\n",
    "plt.plot(np.cumsum(pca.explained_variance_ratio_))\n",
    "plt.xlabel('number of components')\n",
    "plt.ylabel('cumulative explained variance');"
   ]
  },
  {
   "cell_type": "code",
   "execution_count": null,
   "id": "3f80ef0a-9724-4100-8f93-0562ade5d3f4",
   "metadata": {},
   "outputs": [],
   "source": [
    "clf = MLPClassifier(hidden_layer_sizes=(100), random_state=1, max_iter=300, verbose=True).fit(X_pca_Train, y_train)"
   ]
  },
  {
   "cell_type": "code",
   "execution_count": null,
   "id": "8851e9c9-d21b-4f63-8813-a794f161d7e6",
   "metadata": {},
   "outputs": [],
   "source": [
    "X_pca_Test = pca.transform(X_test)\n",
    "clf.score(X_pca_Test,y_test)"
   ]
  }
 ],
 "metadata": {
  "kernelspec": {
   "display_name": "Python 3",
   "language": "python",
   "name": "python3"
  },
  "language_info": {
   "codemirror_mode": {
    "name": "ipython",
    "version": 3
   },
   "file_extension": ".py",
   "mimetype": "text/x-python",
   "name": "python",
   "nbconvert_exporter": "python",
   "pygments_lexer": "ipython3",
   "version": "3.8.8"
  }
 },
 "nbformat": 4,
 "nbformat_minor": 5
}
