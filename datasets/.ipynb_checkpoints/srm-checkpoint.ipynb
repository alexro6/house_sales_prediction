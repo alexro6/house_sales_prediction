{
 "cells": [
  {
   "cell_type": "code",
   "execution_count": 1,
   "metadata": {},
   "outputs": [],
   "source": [
    "import pandas as pd\n",
    "import numpy as np\n",
    "import matplotlib.pyplot as plt\n",
    "import seaborn as sns\n",
    "import scikitplot as skplt\n",
    "\n",
    "from sklearn.preprocessing import StandardScaler\n",
    "from sklearn.model_selection import train_test_split\n",
    "from sklearn.model_selection import GridSearchCV\n",
    "from sklearn.model_selection import RepeatedKFold\n",
    "from sklearn.metrics import mean_squared_error, r2_score\n",
    "from sklearn.neighbors import KNeighborsRegressor\n",
    "from sklearn.neural_network import MLPRegressor\n",
    "from sklearn.tree import DecisionTreeRegressor\n",
    "from sklearn.svm import LinearSVR\n",
    "\n",
    "import warnings\n",
    "warnings.filterwarnings('ignore')"
   ]
  },
  {
   "cell_type": "code",
   "execution_count": 2,
   "metadata": {},
   "outputs": [],
   "source": [
    "url = \"https://raw.githubusercontent.com/leilaff89/house_sales_prediction/main/datasets/house_prices_ml_features.csv\""
   ]
  },
  {
   "cell_type": "code",
   "execution_count": 3,
   "metadata": {},
   "outputs": [],
   "source": [
    "df = pd.read_csv(url)"
   ]
  },
  {
   "cell_type": "code",
   "execution_count": 4,
   "metadata": {},
   "outputs": [
    {
     "data": {
      "text/html": [
       "<div>\n",
       "<style scoped>\n",
       "    .dataframe tbody tr th:only-of-type {\n",
       "        vertical-align: middle;\n",
       "    }\n",
       "\n",
       "    .dataframe tbody tr th {\n",
       "        vertical-align: top;\n",
       "    }\n",
       "\n",
       "    .dataframe thead th {\n",
       "        text-align: right;\n",
       "    }\n",
       "</style>\n",
       "<table border=\"1\" class=\"dataframe\">\n",
       "  <thead>\n",
       "    <tr style=\"text-align: right;\">\n",
       "      <th></th>\n",
       "      <th>SUBURB</th>\n",
       "      <th>PRICE</th>\n",
       "      <th>BEDROOMS</th>\n",
       "      <th>BATHROOMS</th>\n",
       "      <th>GARAGE</th>\n",
       "      <th>FLOOR_AREA</th>\n",
       "      <th>BUILD_YEAR</th>\n",
       "      <th>CBD_DIST</th>\n",
       "      <th>NEAREST_STN_DIST</th>\n",
       "      <th>LATITUDE</th>\n",
       "      <th>LONGITUDE</th>\n",
       "      <th>NEAREST_SCH_DIST</th>\n",
       "      <th>NEAREST_SCH_RANK</th>\n",
       "      <th>YEAR_SOLD</th>\n",
       "    </tr>\n",
       "  </thead>\n",
       "  <tbody>\n",
       "    <tr>\n",
       "      <th>0</th>\n",
       "      <td>13.151488</td>\n",
       "      <td>12.807653</td>\n",
       "      <td>3</td>\n",
       "      <td>2</td>\n",
       "      <td>2.0</td>\n",
       "      <td>4.934474</td>\n",
       "      <td>2013</td>\n",
       "      <td>26900</td>\n",
       "      <td>8.496990</td>\n",
       "      <td>-32.193470</td>\n",
       "      <td>115.859554</td>\n",
       "      <td>1.709161</td>\n",
       "      <td>129.0</td>\n",
       "      <td>2019</td>\n",
       "    </tr>\n",
       "    <tr>\n",
       "      <th>1</th>\n",
       "      <td>12.571507</td>\n",
       "      <td>12.567237</td>\n",
       "      <td>3</td>\n",
       "      <td>1</td>\n",
       "      <td>1.0</td>\n",
       "      <td>4.454347</td>\n",
       "      <td>1979</td>\n",
       "      <td>22600</td>\n",
       "      <td>7.549609</td>\n",
       "      <td>-32.120578</td>\n",
       "      <td>115.993579</td>\n",
       "      <td>0.500277</td>\n",
       "      <td>113.0</td>\n",
       "      <td>2015</td>\n",
       "    </tr>\n",
       "    <tr>\n",
       "      <th>2</th>\n",
       "      <td>13.300859</td>\n",
       "      <td>13.437174</td>\n",
       "      <td>3</td>\n",
       "      <td>2</td>\n",
       "      <td>8.0</td>\n",
       "      <td>4.836282</td>\n",
       "      <td>1999</td>\n",
       "      <td>5900</td>\n",
       "      <td>6.230481</td>\n",
       "      <td>-31.917880</td>\n",
       "      <td>115.907050</td>\n",
       "      <td>-0.065880</td>\n",
       "      <td>29.0</td>\n",
       "      <td>2019</td>\n",
       "    </tr>\n",
       "    <tr>\n",
       "      <th>3</th>\n",
       "      <td>12.831836</td>\n",
       "      <td>12.814479</td>\n",
       "      <td>3</td>\n",
       "      <td>2</td>\n",
       "      <td>2.0</td>\n",
       "      <td>5.062595</td>\n",
       "      <td>2003</td>\n",
       "      <td>36300</td>\n",
       "      <td>7.649693</td>\n",
       "      <td>-31.654280</td>\n",
       "      <td>115.702200</td>\n",
       "      <td>-0.384423</td>\n",
       "      <td>39.0</td>\n",
       "      <td>2018</td>\n",
       "    </tr>\n",
       "    <tr>\n",
       "      <th>4</th>\n",
       "      <td>13.167607</td>\n",
       "      <td>13.190022</td>\n",
       "      <td>4</td>\n",
       "      <td>2</td>\n",
       "      <td>4.0</td>\n",
       "      <td>5.509388</td>\n",
       "      <td>2002</td>\n",
       "      <td>23100</td>\n",
       "      <td>8.268732</td>\n",
       "      <td>-32.159590</td>\n",
       "      <td>115.849480</td>\n",
       "      <td>0.797797</td>\n",
       "      <td>129.0</td>\n",
       "      <td>2019</td>\n",
       "    </tr>\n",
       "  </tbody>\n",
       "</table>\n",
       "</div>"
      ],
      "text/plain": [
       "      SUBURB      PRICE  BEDROOMS  BATHROOMS  GARAGE  FLOOR_AREA  BUILD_YEAR  \\\n",
       "0  13.151488  12.807653         3          2     2.0    4.934474        2013   \n",
       "1  12.571507  12.567237         3          1     1.0    4.454347        1979   \n",
       "2  13.300859  13.437174         3          2     8.0    4.836282        1999   \n",
       "3  12.831836  12.814479         3          2     2.0    5.062595        2003   \n",
       "4  13.167607  13.190022         4          2     4.0    5.509388        2002   \n",
       "\n",
       "   CBD_DIST  NEAREST_STN_DIST   LATITUDE   LONGITUDE  NEAREST_SCH_DIST  \\\n",
       "0     26900          8.496990 -32.193470  115.859554          1.709161   \n",
       "1     22600          7.549609 -32.120578  115.993579          0.500277   \n",
       "2      5900          6.230481 -31.917880  115.907050         -0.065880   \n",
       "3     36300          7.649693 -31.654280  115.702200         -0.384423   \n",
       "4     23100          8.268732 -32.159590  115.849480          0.797797   \n",
       "\n",
       "   NEAREST_SCH_RANK  YEAR_SOLD  \n",
       "0             129.0       2019  \n",
       "1             113.0       2015  \n",
       "2              29.0       2019  \n",
       "3              39.0       2018  \n",
       "4             129.0       2019  "
      ]
     },
     "execution_count": 4,
     "metadata": {},
     "output_type": "execute_result"
    }
   ],
   "source": [
    "df.head()"
   ]
  },
  {
   "cell_type": "code",
   "execution_count": 5,
   "metadata": {},
   "outputs": [],
   "source": [
    "X = df.drop(columns=['PRICE'],axis =1).values\n",
    "y = df['PRICE'].values"
   ]
  },
  {
   "cell_type": "code",
   "execution_count": 6,
   "metadata": {},
   "outputs": [],
   "source": [
    "scaler = StandardScaler()\n",
    "X = scaler.fit_transform(X)"
   ]
  },
  {
   "cell_type": "code",
   "execution_count": 7,
   "metadata": {},
   "outputs": [
    {
     "data": {
      "text/plain": [
       "array([[-0.42965461, -0.89997173,  0.23589087, -0.15445854, -0.61014886,\n",
       "         1.09933878,  0.78468341,  0.60007618, -1.45556355, -0.04377577,\n",
       "         2.08739396,  1.39948038,  0.68016718]])"
      ]
     },
     "execution_count": 7,
     "metadata": {},
     "output_type": "execute_result"
    }
   ],
   "source": [
    "X[0:1]"
   ]
  },
  {
   "cell_type": "code",
   "execution_count": 8,
   "metadata": {},
   "outputs": [],
   "source": [
    "X_train, X_test, y_train, y_test = train_test_split(X, y, test_size = 0.2, random_state = 2)"
   ]
  },
  {
   "cell_type": "code",
   "execution_count": 9,
   "metadata": {},
   "outputs": [
    {
     "name": "stdout",
     "output_type": "stream",
     "text": [
      "Train set size: (15330, 13) (15330,)\n",
      "Test set size: (3833, 13) (3833,)\n"
     ]
    }
   ],
   "source": [
    "print ('Train set size:', X_train.shape,  y_train.shape)\n",
    "print ('Test set size:', X_test.shape,  y_test.shape)"
   ]
  },
  {
   "cell_type": "code",
   "execution_count": 10,
   "metadata": {},
   "outputs": [],
   "source": [
    "cv = RepeatedKFold(n_repeats=2, random_state=100)"
   ]
  },
  {
   "cell_type": "code",
   "execution_count": 11,
   "metadata": {},
   "outputs": [
    {
     "data": {
      "text/plain": [
       "GridSearchCV(cv=RepeatedKFold(n_repeats=2, n_splits=5, random_state=100),\n",
       "             estimator=MLPRegressor(),\n",
       "             param_grid=[{'activation': ['identity', 'logistic', 'tanh',\n",
       "                                         'relu'],\n",
       "                          'hidden_layer_sizes': [10, 100],\n",
       "                          'solver': ['lbfgs', 'sgd', 'adam']}])"
      ]
     },
     "execution_count": 11,
     "metadata": {},
     "output_type": "execute_result"
    }
   ],
   "source": [
    "param_grid_ann = [{'hidden_layer_sizes':[10, 100],\n",
    "                   'activation':['identity', 'logistic', 'tanh', 'relu'], \n",
    "                   'solver':['lbfgs', 'sgd', 'adam']}]\n",
    "ann = MLPRegressor()\n",
    "ann_cv = GridSearchCV(ann, param_grid_ann, cv = cv)\n",
    "ann_cv.fit(X_train,y_train)"
   ]
  },
  {
   "cell_type": "code",
   "execution_count": 12,
   "metadata": {},
   "outputs": [
    {
     "name": "stdout",
     "output_type": "stream",
     "text": [
      "tuned hpyerparameters :(best parameters)  {'activation': 'tanh', 'hidden_layer_sizes': 100, 'solver': 'lbfgs'}\n",
      "accuracy : 0.8332854302072\n"
     ]
    }
   ],
   "source": [
    "print(\"tuned hpyerparameters :(best parameters) \",ann_cv.best_params_)\n",
    "print(\"accuracy :\",ann_cv.best_score_)"
   ]
  },
  {
   "cell_type": "code",
   "execution_count": 13,
   "metadata": {
    "tags": []
   },
   "outputs": [],
   "source": [
    "yhat_ann=ann_cv.predict(X_test)"
   ]
  },
  {
   "cell_type": "code",
   "execution_count": 14,
   "metadata": {},
   "outputs": [
    {
     "name": "stdout",
     "output_type": "stream",
     "text": [
      "Mean squared error: 0.04\n",
      "Coefficient of determination: 0.84\n"
     ]
    }
   ],
   "source": [
    "mse_ann = mean_squared_error(y_test, yhat_ann)\n",
    "r2_ann = r2_score(y_test, yhat_ann)\n",
    "print(\"Mean squared error: %.2f\" % mse_ann)\n",
    "print(\"Coefficient of determination: %.2f\" % r2_ann)"
   ]
  },
  {
   "cell_type": "code",
   "execution_count": 15,
   "metadata": {},
   "outputs": [],
   "source": [
    "param_grid_svr = {'C': np.logspace(-3, 3, 5),\n",
    "                 'loss' :['epsilon_insensitive', 'squared_epsilon_insensitive']}\n",
    "svr = LinearSVR(random_state=0, tol=1e-5)"
   ]
  },
  {
   "cell_type": "code",
   "execution_count": 16,
   "metadata": {},
   "outputs": [
    {
     "data": {
      "text/plain": [
       "GridSearchCV(cv=RepeatedKFold(n_repeats=2, n_splits=5, random_state=100),\n",
       "             estimator=LinearSVR(random_state=0, tol=1e-05),\n",
       "             param_grid={'C': array([1.00000000e-03, 3.16227766e-02, 1.00000000e+00, 3.16227766e+01,\n",
       "       1.00000000e+03]),\n",
       "                         'loss': ['epsilon_insensitive',\n",
       "                                  'squared_epsilon_insensitive']})"
      ]
     },
     "execution_count": 16,
     "metadata": {},
     "output_type": "execute_result"
    }
   ],
   "source": [
    "svr_cv = GridSearchCV(svr, param_grid_svr, cv = cv)\n",
    "svr_cv.fit(X_train, y_train)"
   ]
  },
  {
   "cell_type": "code",
   "execution_count": 17,
   "metadata": {},
   "outputs": [
    {
     "name": "stdout",
     "output_type": "stream",
     "text": [
      "tuned hpyerparameters :(best parameters)  {'C': 1.0, 'loss': 'squared_epsilon_insensitive'}\n",
      "accuracy : 0.7774989566397901\n"
     ]
    }
   ],
   "source": [
    "print(\"tuned hpyerparameters :(best parameters) \",svr_cv.best_params_)\n",
    "print(\"accuracy :\",svr_cv.best_score_)"
   ]
  },
  {
   "cell_type": "code",
   "execution_count": 18,
   "metadata": {},
   "outputs": [],
   "source": [
    "yhat_svr = svr_cv.predict(X_test)"
   ]
  },
  {
   "cell_type": "code",
   "execution_count": 19,
   "metadata": {},
   "outputs": [
    {
     "name": "stdout",
     "output_type": "stream",
     "text": [
      "Mean squared error: 0.05\n",
      "Coefficient of determination: 0.79\n"
     ]
    }
   ],
   "source": [
    "mse_svr = mean_squared_error(y_test, yhat_svr)\n",
    "r2_svr = r2_score(y_test, yhat_svr)\n",
    "print(\"Mean squared error: %.2f\" % mse_svr)\n",
    "print(\"Coefficient of determination: %.2f\" % r2_svr)"
   ]
  },
  {
   "cell_type": "code",
   "execution_count": 20,
   "metadata": {},
   "outputs": [],
   "source": [
    "param_grid_dt = {'criterion': ['squared_error', 'friedman_mse', 'absolute_error', 'poisson'],\n",
    "     'splitter': ['best', 'random'],\n",
    "     'max_depth': [2*n for n in range(1,10)],\n",
    "     'max_features': ['auto', 'sqrt'],\n",
    "     'min_samples_leaf': [1, 2, 4],\n",
    "     'min_samples_split': [2, 5, 10]}\n",
    "\n",
    "tree = DecisionTreeRegressor()"
   ]
  },
  {
   "cell_type": "code",
   "execution_count": 21,
   "metadata": {},
   "outputs": [
    {
     "data": {
      "text/plain": [
       "GridSearchCV(cv=RepeatedKFold(n_repeats=2, n_splits=5, random_state=100),\n",
       "             estimator=DecisionTreeRegressor(),\n",
       "             param_grid={'criterion': ['squared_error', 'friedman_mse',\n",
       "                                       'absolute_error', 'poisson'],\n",
       "                         'max_depth': [2, 4, 6, 8, 10, 12, 14, 16, 18],\n",
       "                         'max_features': ['auto', 'sqrt'],\n",
       "                         'min_samples_leaf': [1, 2, 4],\n",
       "                         'min_samples_split': [2, 5, 10],\n",
       "                         'splitter': ['best', 'random']})"
      ]
     },
     "execution_count": 21,
     "metadata": {},
     "output_type": "execute_result"
    }
   ],
   "source": [
    "tree_cv = GridSearchCV(tree, param_grid_dt, cv = cv)\n",
    "tree_cv.fit(X_train, y_train)"
   ]
  },
  {
   "cell_type": "code",
   "execution_count": 22,
   "metadata": {},
   "outputs": [
    {
     "name": "stdout",
     "output_type": "stream",
     "text": [
      "tuned hpyerparameters :(best parameters)  {'criterion': 'friedman_mse', 'max_depth': 10, 'max_features': 'auto', 'min_samples_leaf': 4, 'min_samples_split': 10, 'splitter': 'best'}\n",
      "accuracy : 0.7909297237015738\n"
     ]
    }
   ],
   "source": [
    "print(\"tuned hpyerparameters :(best parameters) \",tree_cv.best_params_)\n",
    "print(\"accuracy :\",tree_cv.best_score_)"
   ]
  },
  {
   "cell_type": "code",
   "execution_count": 23,
   "metadata": {},
   "outputs": [],
   "source": [
    "yhat_dt = tree_cv.predict(X_test)"
   ]
  },
  {
   "cell_type": "code",
   "execution_count": 24,
   "metadata": {},
   "outputs": [
    {
     "name": "stdout",
     "output_type": "stream",
     "text": [
      "Mean squared error: 0.05\n",
      "Coefficient of determination: 0.80\n"
     ]
    }
   ],
   "source": [
    "mse_dt = mean_squared_error(y_test, yhat_dt)\n",
    "r2_dt = r2_score(y_test, yhat_dt)\n",
    "print(\"Mean squared error: %.2f\" % mse_dt)\n",
    "print(\"Coefficient of determination: %.2f\" % r2_dt)"
   ]
  },
  {
   "cell_type": "code",
   "execution_count": 25,
   "metadata": {},
   "outputs": [],
   "source": [
    "param_grid_knn = {'n_neighbors': [1, 2, 3, 4, 5, 6, 7, 8, 9, 10],\n",
    "              'algorithm': ['auto', 'ball_tree', 'kd_tree', 'brute'],\n",
    "              'p': [1,2]}\n",
    "\n",
    "KNN = KNeighborsRegressor()"
   ]
  },
  {
   "cell_type": "code",
   "execution_count": 26,
   "metadata": {},
   "outputs": [
    {
     "data": {
      "text/plain": [
       "GridSearchCV(cv=RepeatedKFold(n_repeats=2, n_splits=5, random_state=100),\n",
       "             estimator=KNeighborsRegressor(),\n",
       "             param_grid={'algorithm': ['auto', 'ball_tree', 'kd_tree', 'brute'],\n",
       "                         'n_neighbors': [1, 2, 3, 4, 5, 6, 7, 8, 9, 10],\n",
       "                         'p': [1, 2]})"
      ]
     },
     "execution_count": 26,
     "metadata": {},
     "output_type": "execute_result"
    }
   ],
   "source": [
    "knn_cv = GridSearchCV(KNN, param_grid_knn, cv = cv)\n",
    "knn_cv.fit(X_train, y_train)"
   ]
  },
  {
   "cell_type": "code",
   "execution_count": 27,
   "metadata": {},
   "outputs": [
    {
     "name": "stdout",
     "output_type": "stream",
     "text": [
      "tuned hpyerparameters :(best parameters)  {'algorithm': 'auto', 'n_neighbors': 7, 'p': 1}\n",
      "accuracy : 0.8217885312752277\n"
     ]
    }
   ],
   "source": [
    "print(\"tuned hpyerparameters :(best parameters) \",knn_cv.best_params_)\n",
    "print(\"accuracy :\",knn_cv.best_score_)"
   ]
  },
  {
   "cell_type": "code",
   "execution_count": 28,
   "metadata": {},
   "outputs": [],
   "source": [
    "yhat_knn = knn_cv.predict(X_test)"
   ]
  },
  {
   "cell_type": "code",
   "execution_count": 29,
   "metadata": {},
   "outputs": [
    {
     "name": "stdout",
     "output_type": "stream",
     "text": [
      "Mean squared error: 0.05\n",
      "Coefficient of determination: 0.82\n"
     ]
    }
   ],
   "source": [
    "mse_knn = mean_squared_error(y_test, yhat_knn)\n",
    "r2_knn = r2_score(y_test, yhat_knn)\n",
    "print(\"Mean squared error: %.2f\" % mse_knn)\n",
    "print(\"Coefficient of determination: %.2f\" % r2_knn)"
   ]
  },
  {
   "cell_type": "code",
   "execution_count": 30,
   "metadata": {},
   "outputs": [
    {
     "data": {
      "image/png": "[encoded data removed]",
      "text/plain": [
       "<Figure size 432x288 with 1 Axes>"
      ]
     },
     "metadata": {
      "needs_background": "light"
     },
     "output_type": "display_data"
    }
   ],
   "source": [
    "scores = {'ANN':r2_ann, 'SVR':r2_svr, 'DT':r2_dt, 'KNN':r2_knn}\n",
    "\n",
    "import seaborn as sns\n",
    "\n",
    "keys = list(scores.keys())\n",
    "values = list(scores.values())\n",
    "sns.barplot(x=keys, y=values, palette=\"rocket\")\n",
    "\n",
    "plt.xlabel('Predictor Algorithms', fontsize = 15)\n",
    "plt.ylabel('R2 Scores', fontsize = 15)\n",
    "plt.show()"
   ]
  },
  {
   "cell_type": "code",
   "execution_count": 31,
   "metadata": {},
   "outputs": [
    {
     "data": {
      "image/png": "[encoded data removed]",
      "text/plain": [
       "<Figure size 432x288 with 1 Axes>"
      ]
     },
     "metadata": {
      "needs_background": "light"
     },
     "output_type": "display_data"
    }
   ],
   "source": [
    "grid_scores = {'ANN':mse_ann, 'SVR':mse_svr, 'DT':mse_dt, 'KNN':mse_knn}\n",
    "\n",
    "keys = list(grid_scores.keys())\n",
    "values = list(grid_scores.values())\n",
    "sns.barplot(x=keys, y=values, palette=\"mako\")\n",
    "\n",
    "plt.xlabel('Predictor Algorithms', fontsize = 15)\n",
    "plt.ylabel('MSE', fontsize = 15)\n",
    "plt.show()"
   ]
  },
  {
   "cell_type": "markdown",
   "metadata": {},
   "source": [
    "| Date (YYYY-MM-DD) | Changed By    | \n",
    "| ----------------- | ------------- | \n",
    "| 2021-12-10        | Leila F F     | \n",
    "| 2021-12-10        | Alex R        | "
   ]
  }
 ],
 "metadata": {
  "kernelspec": {
   "display_name": "Python 3",
   "language": "python",
   "name": "python3"
  },
  "language_info": {
   "codemirror_mode": {
    "name": "ipython",
    "version": 3
   },
   "file_extension": ".py",
   "mimetype": "text/x-python",
   "name": "python",
   "nbconvert_exporter": "python",
   "pygments_lexer": "ipython3",
   "version": "3.8.8"
  }
 },
 "nbformat": 4,
 "nbformat_minor": 4
}
