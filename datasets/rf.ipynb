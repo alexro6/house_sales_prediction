{
  "nbformat": 4,
  "nbformat_minor": 0,
  "metadata": {
    "colab": {
      "name": "rf.ipynb",
      "provenance": [],
      "collapsed_sections": []
    },
    "kernelspec": {
      "name": "python3",
      "display_name": "Python 3"
    },
    "language_info": {
      "name": "python"
    }
  },
  "cells": [
    {
      "cell_type": "code",
      "source": [
        "#!pip install scikit-plot"
      ],
      "metadata": {
        "id": "0ZSGEtSfTIK3"
      },
      "execution_count": null,
      "outputs": []
    },
    {
      "cell_type": "code",
      "execution_count": null,
      "metadata": {
        "id": "IVT0waRdHj_J"
      },
      "outputs": [],
      "source": [
        "import pandas as pd\n",
        "import scikitplot as skplt\n",
        "\n",
        "from sklearn.model_selection import train_test_split\n",
        "from sklearn.ensemble import RandomForestRegressor\n",
        "from sklearn.model_selection import GridSearchCV\n",
        "from sklearn.metrics import r2_score\n",
        "from sklearn.metrics import mean_squared_error"
      ]
    },
    {
      "cell_type": "code",
      "source": [
        "url = 'https://raw.githubusercontent.com/leilaff89/house_sales_prediction/main/datasets/house_prices_ml_features.csv'"
      ],
      "metadata": {
        "id": "qb8Eo6dvL-vq"
      },
      "execution_count": null,
      "outputs": []
    },
    {
      "cell_type": "code",
      "source": [
        "df = pd.read_csv(url)"
      ],
      "metadata": {
        "id": "cJarNp4-MAdw"
      },
      "execution_count": null,
      "outputs": []
    },
    {
      "cell_type": "code",
      "source": [
        "df.head()"
      ],
      "metadata": {
        "colab": {
          "base_uri": "https://localhost:8080/",
          "height": 206
        },
        "id": "cSl4s5X3MF83",
        "outputId": "443c8f66-7d35-4b96-e2ef-9a631555c10e"
      },
      "execution_count": null,
      "outputs": [
        {
          "output_type": "execute_result",
          "data": {
            "text/html": [
              "<div>\n",
              "<style scoped>\n",
              "    .dataframe tbody tr th:only-of-type {\n",
              "        vertical-align: middle;\n",
              "    }\n",
              "\n",
              "    .dataframe tbody tr th {\n",
              "        vertical-align: top;\n",
              "    }\n",
              "\n",
              "    .dataframe thead th {\n",
              "        text-align: right;\n",
              "    }\n",
              "</style>\n",
              "<table border=\"1\" class=\"dataframe\">\n",
              "  <thead>\n",
              "    <tr style=\"text-align: right;\">\n",
              "      <th></th>\n",
              "      <th>SUBURB</th>\n",
              "      <th>PRICE</th>\n",
              "      <th>BEDROOMS</th>\n",
              "      <th>BATHROOMS</th>\n",
              "      <th>GARAGE</th>\n",
              "      <th>FLOOR_AREA</th>\n",
              "      <th>BUILD_YEAR</th>\n",
              "      <th>CBD_DIST</th>\n",
              "      <th>NEAREST_STN_DIST</th>\n",
              "      <th>LATITUDE</th>\n",
              "      <th>LONGITUDE</th>\n",
              "      <th>NEAREST_SCH_DIST</th>\n",
              "      <th>NEAREST_SCH_RANK</th>\n",
              "      <th>YEAR_SOLD</th>\n",
              "    </tr>\n",
              "  </thead>\n",
              "  <tbody>\n",
              "    <tr>\n",
              "      <th>0</th>\n",
              "      <td>13.151488</td>\n",
              "      <td>12.807653</td>\n",
              "      <td>3</td>\n",
              "      <td>2</td>\n",
              "      <td>2.0</td>\n",
              "      <td>4.934474</td>\n",
              "      <td>2013</td>\n",
              "      <td>26900</td>\n",
              "      <td>8.496990</td>\n",
              "      <td>-32.193470</td>\n",
              "      <td>115.859553</td>\n",
              "      <td>1.709161</td>\n",
              "      <td>129.0</td>\n",
              "      <td>2019</td>\n",
              "    </tr>\n",
              "    <tr>\n",
              "      <th>1</th>\n",
              "      <td>12.571507</td>\n",
              "      <td>12.567237</td>\n",
              "      <td>3</td>\n",
              "      <td>1</td>\n",
              "      <td>1.0</td>\n",
              "      <td>4.454347</td>\n",
              "      <td>1979</td>\n",
              "      <td>22600</td>\n",
              "      <td>7.549609</td>\n",
              "      <td>-32.120578</td>\n",
              "      <td>115.993579</td>\n",
              "      <td>0.500277</td>\n",
              "      <td>113.0</td>\n",
              "      <td>2015</td>\n",
              "    </tr>\n",
              "    <tr>\n",
              "      <th>2</th>\n",
              "      <td>13.300859</td>\n",
              "      <td>13.437174</td>\n",
              "      <td>3</td>\n",
              "      <td>2</td>\n",
              "      <td>8.0</td>\n",
              "      <td>4.836282</td>\n",
              "      <td>1999</td>\n",
              "      <td>5900</td>\n",
              "      <td>6.230481</td>\n",
              "      <td>-31.917880</td>\n",
              "      <td>115.907050</td>\n",
              "      <td>-0.065880</td>\n",
              "      <td>29.0</td>\n",
              "      <td>2019</td>\n",
              "    </tr>\n",
              "    <tr>\n",
              "      <th>3</th>\n",
              "      <td>12.831836</td>\n",
              "      <td>12.814479</td>\n",
              "      <td>3</td>\n",
              "      <td>2</td>\n",
              "      <td>2.0</td>\n",
              "      <td>5.062595</td>\n",
              "      <td>2003</td>\n",
              "      <td>36300</td>\n",
              "      <td>7.649693</td>\n",
              "      <td>-31.654280</td>\n",
              "      <td>115.702200</td>\n",
              "      <td>-0.384423</td>\n",
              "      <td>39.0</td>\n",
              "      <td>2018</td>\n",
              "    </tr>\n",
              "    <tr>\n",
              "      <th>4</th>\n",
              "      <td>13.167607</td>\n",
              "      <td>13.190022</td>\n",
              "      <td>4</td>\n",
              "      <td>2</td>\n",
              "      <td>4.0</td>\n",
              "      <td>5.509388</td>\n",
              "      <td>2002</td>\n",
              "      <td>23100</td>\n",
              "      <td>8.268732</td>\n",
              "      <td>-32.159590</td>\n",
              "      <td>115.849480</td>\n",
              "      <td>0.797797</td>\n",
              "      <td>129.0</td>\n",
              "      <td>2019</td>\n",
              "    </tr>\n",
              "  </tbody>\n",
              "</table>\n",
              "</div>"
            ],
            "text/plain": [
              "      SUBURB      PRICE  ...  NEAREST_SCH_RANK  YEAR_SOLD\n",
              "0  13.151488  12.807653  ...             129.0       2019\n",
              "1  12.571507  12.567237  ...             113.0       2015\n",
              "2  13.300859  13.437174  ...              29.0       2019\n",
              "3  12.831836  12.814479  ...              39.0       2018\n",
              "4  13.167607  13.190022  ...             129.0       2019\n",
              "\n",
              "[5 rows x 14 columns]"
            ]
          },
          "metadata": {},
          "execution_count": 4
        }
      ]
    },
    {
      "cell_type": "code",
      "source": [
        "X = df.drop(columns=['PRICE'],axis =1).values\n",
        "y = df['PRICE'].values\n",
        "\n",
        "X_train, X_test, y_train, y_test = train_test_split(X, y, test_size=0.2, random_state=42)"
      ],
      "metadata": {
        "id": "PrY-6gjyUr7X"
      },
      "execution_count": null,
      "outputs": []
    },
    {
      "cell_type": "code",
      "source": [
        "rfc = RandomForestRegressor(random_state=42) "
      ],
      "metadata": {
        "id": "apjWKYjSdelM"
      },
      "execution_count": null,
      "outputs": []
    },
    {
      "cell_type": "code",
      "source": [
        "param_grid = { \n",
        "    'n_estimators': [950],\n",
        "    'max_features': ['sqrt', 'log2'],\n",
        "    'max_depth' : [30],\n",
        "    'bootstrap': [False]\n",
        "}"
      ],
      "metadata": {
        "id": "QQFdoRlueYDD"
      },
      "execution_count": null,
      "outputs": []
    },
    {
      "cell_type": "code",
      "source": [
        "CV_rfc = GridSearchCV(estimator=rfc, param_grid=param_grid, cv= 5)\n",
        "CV_rfc.fit(X_train, y_train)"
      ],
      "metadata": {
        "colab": {
          "base_uri": "https://localhost:8080/"
        },
        "id": "j-2EdyROegeG",
        "outputId": "23c802ee-383a-420f-efe5-a79b69a6f1be"
      },
      "execution_count": null,
      "outputs": [
        {
          "output_type": "execute_result",
          "data": {
            "text/plain": [
              "GridSearchCV(cv=5, estimator=RandomForestRegressor(random_state=42),\n",
              "             param_grid={'bootstrap': [False], 'max_depth': [30],\n",
              "                         'max_features': ['sqrt', 'log2'],\n",
              "                         'n_estimators': [950]})"
            ]
          },
          "metadata": {},
          "execution_count": 8
        }
      ]
    },
    {
      "cell_type": "code",
      "source": [
        "CV_rfc.best_params_"
      ],
      "metadata": {
        "colab": {
          "base_uri": "https://localhost:8080/"
        },
        "id": "Hx6OrjOyemGG",
        "outputId": "3fff0b2f-2a00-4e8c-e9e1-3020ca8ef557"
      },
      "execution_count": null,
      "outputs": [
        {
          "output_type": "execute_result",
          "data": {
            "text/plain": [
              "{'bootstrap': False,\n",
              " 'max_depth': 30,\n",
              " 'max_features': 'sqrt',\n",
              " 'n_estimators': 950}"
            ]
          },
          "metadata": {},
          "execution_count": 9
        }
      ]
    },
    {
      "cell_type": "code",
      "source": [
        "rfc = RandomForestRegressor(n_estimators=950, max_features='sqrt', max_depth=30, bootstrap=False, random_state=42) "
      ],
      "metadata": {
        "id": "chM2PWh0Lb31"
      },
      "execution_count": null,
      "outputs": []
    },
    {
      "cell_type": "code",
      "source": [
        "rfc.fit(X_train, y_train)"
      ],
      "metadata": {
        "colab": {
          "base_uri": "https://localhost:8080/"
        },
        "id": "sMEQJpynLjyo",
        "outputId": "6bde1272-5a57-489d-c1ba-bafd8ace2f62"
      },
      "execution_count": null,
      "outputs": [
        {
          "output_type": "execute_result",
          "data": {
            "text/plain": [
              "RandomForestRegressor(bootstrap=False, max_depth=30, max_features='sqrt',\n",
              "                      n_estimators=950, random_state=42)"
            ]
          },
          "metadata": {},
          "execution_count": 11
        }
      ]
    },
    {
      "cell_type": "code",
      "source": [
        "prediction = rfc.predict(X_test)\n",
        "print(prediction)"
      ],
      "metadata": {
        "colab": {
          "base_uri": "https://localhost:8080/"
        },
        "id": "YJ_JOEx6LnR0",
        "outputId": "b77b0d4f-d4ea-49f5-8702-89d802cc1e17"
      },
      "execution_count": null,
      "outputs": [
        {
          "output_type": "stream",
          "name": "stdout",
          "text": [
            "[13.31037186 13.03492928 13.02898414 ... 13.10923944 14.39810965\n",
            " 12.98393105]\n"
          ]
        }
      ]
    },
    {
      "cell_type": "code",
      "source": [
        "r2_score(y_test, prediction)"
      ],
      "metadata": {
        "colab": {
          "base_uri": "https://localhost:8080/"
        },
        "id": "IH7fc0OFOz2Q",
        "outputId": "2ac32be9-729e-4d23-baa2-d9adf83e8795"
      },
      "execution_count": null,
      "outputs": [
        {
          "output_type": "execute_result",
          "data": {
            "text/plain": [
              "0.8598011083679455"
            ]
          },
          "metadata": {},
          "execution_count": 14
        }
      ]
    },
    {
      "cell_type": "code",
      "source": [
        "mean_squared_error(y_test, prediction)"
      ],
      "metadata": {
        "colab": {
          "base_uri": "https://localhost:8080/"
        },
        "id": "lgo9Le5oPONJ",
        "outputId": "88ca3286-bb2a-44e7-b7cb-3212a69a2c50"
      },
      "execution_count": null,
      "outputs": [
        {
          "output_type": "execute_result",
          "data": {
            "text/plain": [
              "0.03645184028077497"
            ]
          },
          "metadata": {},
          "execution_count": 15
        }
      ]
    },
    {
      "cell_type": "code",
      "source": [
        "skplt.estimators.plot_feature_importances(rfc, feature_names=df.drop(columns=['PRICE'],axis =1).columns,\n",
        "                                         title=\"Random Forest Feature Importance\",\n",
        "                                         x_tick_rotation=90, order=\"ascending\");"
      ],
      "metadata": {
        "colab": {
          "base_uri": "https://localhost:8080/",
          "height": 375
        },
        "id": "bybl9d62RlQV",
        "outputId": "cc12917b-4e26-4664-a707-db87c595d996"
      },
      "execution_count": null,
      "outputs": [
        {
          "output_type": "display_data",
          "data": {
            "image/png": "[encoded data removed]",
            "text/plain": [
              "<Figure size 432x288 with 1 Axes>"
            ]
          },
          "metadata": {
            "needs_background": "light"
          }
        }
      ]
    }
  ]
}