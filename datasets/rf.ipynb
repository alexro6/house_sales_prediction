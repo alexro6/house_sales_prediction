{
 "cells": [
  {
   "cell_type": "code",
   "execution_count": null,
   "metadata": {
    "id": "0ZSGEtSfTIK3"
   },
   "outputs": [],
   "source": [
    "#!pip install scikit-plot"
   ]
  },
  {
   "cell_type": "code",
   "execution_count": 1,
   "metadata": {
    "id": "IVT0waRdHj_J"
   },
   "outputs": [],
   "source": [
    "import pandas as pd\n",
<<<<<<< HEAD
    "import numpy as np\n",
=======
>>>>>>> 3fe5af21fefda309b776280f4fd0f3679d22958b
    "import scikitplot as skplt\n",
    "\n",
    "from sklearn.preprocessing import StandardScaler\n",
    "from sklearn.model_selection import train_test_split\n",
    "from sklearn.ensemble import RandomForestRegressor\n",
    "from sklearn.model_selection import GridSearchCV\n",
    "from sklearn.metrics import r2_score\n",
    "from sklearn.metrics import mean_squared_error\n",
    "\n",
    "import pickle\n",
    "from joblib import dump"
   ]
  },
  {
   "cell_type": "code",
   "execution_count": 2,
   "metadata": {
    "id": "qb8Eo6dvL-vq"
   },
   "outputs": [],
   "source": [
    "url = 'https://raw.githubusercontent.com/leilaff89/house_sales_prediction/main/datasets/house_prices_ml_features.csv'"
   ]
  },
  {
   "cell_type": "code",
   "execution_count": 3,
   "metadata": {
    "id": "cJarNp4-MAdw"
   },
   "outputs": [],
   "source": [
    "df = pd.read_csv(url)"
   ]
  },
  {
   "cell_type": "code",
   "execution_count": 4,
   "metadata": {
    "colab": {
     "base_uri": "https://localhost:8080/",
     "height": 206
    },
    "id": "cSl4s5X3MF83",
    "outputId": "443c8f66-7d35-4b96-e2ef-9a631555c10e"
   },
<<<<<<< HEAD
   "outputs": [],
   "source": [
    "#df.head()"
   ]
  },
  {
   "cell_type": "code",
   "execution_count": 4,
   "metadata": {
    "id": "PrY-6gjyUr7X"
   },
   "outputs": [],
   "source": [
    "X = df.drop(columns=['PRICE'],axis =1).values\n",
    "y = df['PRICE'].values"
   ]
  },
  {
   "cell_type": "code",
   "execution_count": 5,
   "metadata": {},
   "outputs": [],
   "source": [
    "scaler = StandardScaler()\n",
    "X = scaler.fit_transform(X) "
   ]
  },
  {
   "cell_type": "code",
   "execution_count": 6,
   "metadata": {},
   "outputs": [],
   "source": [
    "X_train, X_test, y_train, y_test = train_test_split(X, y, test_size=0.2, random_state=42)"
   ]
  },
  {
   "cell_type": "code",
   "execution_count": 7,
   "metadata": {
    "id": "apjWKYjSdelM"
   },
   "outputs": [],
   "source": [
    "rfc = RandomForestRegressor(random_state=42) "
   ]
  },
  {
   "cell_type": "code",
   "execution_count": 9,
   "metadata": {
    "id": "QQFdoRlueYDD"
   },
   "outputs": [],
   "source": [
    "param_grid = { \n",
    "    'n_estimators': [950],\n",
    "    'max_features': ['sqrt', 'log2'],\n",
    "    'max_depth' : [30],\n",
    "    'bootstrap': [False]\n",
    "}"
   ]
  },
  {
   "cell_type": "code",
   "execution_count": 10,
   "metadata": {
    "colab": {
     "base_uri": "https://localhost:8080/"
    },
    "id": "j-2EdyROegeG",
    "outputId": "23c802ee-383a-420f-efe5-a79b69a6f1be"
   },
   "outputs": [
    {
     "data": {
      "text/plain": [
       "GridSearchCV(cv=5, estimator=RandomForestRegressor(random_state=42),\n",
       "             param_grid={'bootstrap': [False], 'max_depth': [30],\n",
       "                         'max_features': ['sqrt', 'log2'],\n",
       "                         'n_estimators': [950]})"
      ]
     },
     "execution_count": 10,
=======
   "outputs": [
    {
     "data": {
      "text/html": [
       "<div>\n",
       "<style scoped>\n",
       "    .dataframe tbody tr th:only-of-type {\n",
       "        vertical-align: middle;\n",
       "    }\n",
       "\n",
       "    .dataframe tbody tr th {\n",
       "        vertical-align: top;\n",
       "    }\n",
       "\n",
       "    .dataframe thead th {\n",
       "        text-align: right;\n",
       "    }\n",
       "</style>\n",
       "<table border=\"1\" class=\"dataframe\">\n",
       "  <thead>\n",
       "    <tr style=\"text-align: right;\">\n",
       "      <th></th>\n",
       "      <th>SUBURB</th>\n",
       "      <th>PRICE</th>\n",
       "      <th>BEDROOMS</th>\n",
       "      <th>BATHROOMS</th>\n",
       "      <th>GARAGE</th>\n",
       "      <th>FLOOR_AREA</th>\n",
       "      <th>BUILD_YEAR</th>\n",
       "      <th>CBD_DIST</th>\n",
       "      <th>NEAREST_STN_DIST</th>\n",
       "      <th>LATITUDE</th>\n",
       "      <th>LONGITUDE</th>\n",
       "      <th>NEAREST_SCH_DIST</th>\n",
       "      <th>NEAREST_SCH_RANK</th>\n",
       "      <th>YEAR_SOLD</th>\n",
       "    </tr>\n",
       "  </thead>\n",
       "  <tbody>\n",
       "    <tr>\n",
       "      <th>0</th>\n",
       "      <td>13.151488</td>\n",
       "      <td>12.807653</td>\n",
       "      <td>3</td>\n",
       "      <td>2</td>\n",
       "      <td>2.0</td>\n",
       "      <td>4.934474</td>\n",
       "      <td>2013</td>\n",
       "      <td>26900</td>\n",
       "      <td>8.496990</td>\n",
       "      <td>-32.193470</td>\n",
       "      <td>115.859554</td>\n",
       "      <td>1.709161</td>\n",
       "      <td>129.0</td>\n",
       "      <td>2019</td>\n",
       "    </tr>\n",
       "    <tr>\n",
       "      <th>1</th>\n",
       "      <td>12.571507</td>\n",
       "      <td>12.567237</td>\n",
       "      <td>3</td>\n",
       "      <td>1</td>\n",
       "      <td>1.0</td>\n",
       "      <td>4.454347</td>\n",
       "      <td>1979</td>\n",
       "      <td>22600</td>\n",
       "      <td>7.549609</td>\n",
       "      <td>-32.120578</td>\n",
       "      <td>115.993579</td>\n",
       "      <td>0.500277</td>\n",
       "      <td>113.0</td>\n",
       "      <td>2015</td>\n",
       "    </tr>\n",
       "    <tr>\n",
       "      <th>2</th>\n",
       "      <td>13.300859</td>\n",
       "      <td>13.437174</td>\n",
       "      <td>3</td>\n",
       "      <td>2</td>\n",
       "      <td>8.0</td>\n",
       "      <td>4.836282</td>\n",
       "      <td>1999</td>\n",
       "      <td>5900</td>\n",
       "      <td>6.230481</td>\n",
       "      <td>-31.917880</td>\n",
       "      <td>115.907050</td>\n",
       "      <td>-0.065880</td>\n",
       "      <td>29.0</td>\n",
       "      <td>2019</td>\n",
       "    </tr>\n",
       "    <tr>\n",
       "      <th>3</th>\n",
       "      <td>12.831836</td>\n",
       "      <td>12.814479</td>\n",
       "      <td>3</td>\n",
       "      <td>2</td>\n",
       "      <td>2.0</td>\n",
       "      <td>5.062595</td>\n",
       "      <td>2003</td>\n",
       "      <td>36300</td>\n",
       "      <td>7.649693</td>\n",
       "      <td>-31.654280</td>\n",
       "      <td>115.702200</td>\n",
       "      <td>-0.384423</td>\n",
       "      <td>39.0</td>\n",
       "      <td>2018</td>\n",
       "    </tr>\n",
       "    <tr>\n",
       "      <th>4</th>\n",
       "      <td>13.167607</td>\n",
       "      <td>13.190022</td>\n",
       "      <td>4</td>\n",
       "      <td>2</td>\n",
       "      <td>4.0</td>\n",
       "      <td>5.509388</td>\n",
       "      <td>2002</td>\n",
       "      <td>23100</td>\n",
       "      <td>8.268732</td>\n",
       "      <td>-32.159590</td>\n",
       "      <td>115.849480</td>\n",
       "      <td>0.797797</td>\n",
       "      <td>129.0</td>\n",
       "      <td>2019</td>\n",
       "    </tr>\n",
       "  </tbody>\n",
       "</table>\n",
       "</div>"
      ],
      "text/plain": [
       "      SUBURB      PRICE  BEDROOMS  BATHROOMS  GARAGE  FLOOR_AREA  BUILD_YEAR  \\\n",
       "0  13.151488  12.807653         3          2     2.0    4.934474        2013   \n",
       "1  12.571507  12.567237         3          1     1.0    4.454347        1979   \n",
       "2  13.300859  13.437174         3          2     8.0    4.836282        1999   \n",
       "3  12.831836  12.814479         3          2     2.0    5.062595        2003   \n",
       "4  13.167607  13.190022         4          2     4.0    5.509388        2002   \n",
       "\n",
       "   CBD_DIST  NEAREST_STN_DIST   LATITUDE   LONGITUDE  NEAREST_SCH_DIST  \\\n",
       "0     26900          8.496990 -32.193470  115.859554          1.709161   \n",
       "1     22600          7.549609 -32.120578  115.993579          0.500277   \n",
       "2      5900          6.230481 -31.917880  115.907050         -0.065880   \n",
       "3     36300          7.649693 -31.654280  115.702200         -0.384423   \n",
       "4     23100          8.268732 -32.159590  115.849480          0.797797   \n",
       "\n",
       "   NEAREST_SCH_RANK  YEAR_SOLD  \n",
       "0             129.0       2019  \n",
       "1             113.0       2015  \n",
       "2              29.0       2019  \n",
       "3              39.0       2018  \n",
       "4             129.0       2019  "
      ]
     },
     "execution_count": 4,
>>>>>>> 3fe5af21fefda309b776280f4fd0f3679d22958b
     "metadata": {},
     "output_type": "execute_result"
    }
   ],
   "source": [
<<<<<<< HEAD
    "CV_rfc = GridSearchCV(estimator=rfc, param_grid=param_grid, cv= 5)\n",
    "CV_rfc.fit(X_train, y_train)"
=======
    "df.head()"
>>>>>>> 3fe5af21fefda309b776280f4fd0f3679d22958b
   ]
  },
  {
   "cell_type": "code",
<<<<<<< HEAD
   "execution_count": 11,
=======
   "execution_count": 5,
   "metadata": {
    "id": "PrY-6gjyUr7X"
   },
   "outputs": [],
   "source": [
    "X = df.drop(columns=['PRICE'],axis =1).values\n",
    "y = df['PRICE'].values"
   ]
  },
  {
   "cell_type": "code",
   "execution_count": 6,
   "metadata": {},
   "outputs": [],
   "source": [
    "scaler = StandardScaler()\n",
    "X = scaler.fit_transform(X) "
   ]
  },
  {
   "cell_type": "code",
   "execution_count": 7,
   "metadata": {},
   "outputs": [],
   "source": [
    "X_train, X_test, y_train, y_test = train_test_split(X, y, test_size=0.2, random_state=42)"
   ]
  },
  {
   "cell_type": "code",
   "execution_count": 8,
   "metadata": {
    "id": "apjWKYjSdelM"
   },
   "outputs": [],
   "source": [
    "rfc = RandomForestRegressor(random_state=42) "
   ]
  },
  {
   "cell_type": "code",
   "execution_count": 9,
   "metadata": {
    "id": "QQFdoRlueYDD"
   },
   "outputs": [],
   "source": [
    "param_grid = { \n",
    "    'n_estimators': [950],\n",
    "    'max_features': ['sqrt', 'log2'],\n",
    "    'max_depth' : [30],\n",
    "    'bootstrap': [False]\n",
    "}"
   ]
  },
  {
   "cell_type": "code",
   "execution_count": 10,
>>>>>>> 3fe5af21fefda309b776280f4fd0f3679d22958b
   "metadata": {
    "colab": {
     "base_uri": "https://localhost:8080/"
    },
<<<<<<< HEAD
    "id": "Hx6OrjOyemGG",
    "outputId": "3fff0b2f-2a00-4e8c-e9e1-3020ca8ef557"
=======
    "id": "j-2EdyROegeG",
    "outputId": "23c802ee-383a-420f-efe5-a79b69a6f1be"
>>>>>>> 3fe5af21fefda309b776280f4fd0f3679d22958b
   },
   "outputs": [
    {
     "data": {
      "text/plain": [
<<<<<<< HEAD
       "{'bootstrap': False,\n",
       " 'max_depth': 30,\n",
       " 'max_features': 'sqrt',\n",
       " 'n_estimators': 950}"
      ]
     },
     "execution_count": 11,
=======
       "GridSearchCV(cv=5, estimator=RandomForestRegressor(random_state=42),\n",
       "             param_grid={'bootstrap': [False], 'max_depth': [30],\n",
       "                         'max_features': ['sqrt', 'log2'],\n",
       "                         'n_estimators': [950]})"
      ]
     },
     "execution_count": 10,
>>>>>>> 3fe5af21fefda309b776280f4fd0f3679d22958b
     "metadata": {},
     "output_type": "execute_result"
    }
   ],
   "source": [
<<<<<<< HEAD
    "CV_rfc.best_params_"
=======
    "CV_rfc = GridSearchCV(estimator=rfc, param_grid=param_grid, cv= 5)\n",
    "CV_rfc.fit(X_train, y_train)"
>>>>>>> 3fe5af21fefda309b776280f4fd0f3679d22958b
   ]
  },
  {
   "cell_type": "code",
<<<<<<< HEAD
   "execution_count": 8,
   "metadata": {
    "id": "chM2PWh0Lb31"
   },
   "outputs": [],
   "source": [
    "rfc = RandomForestRegressor(n_estimators=950, max_features='sqrt', max_depth=30, bootstrap=False, random_state=42) "
   ]
  },
  {
   "cell_type": "code",
   "execution_count": 9,
=======
   "execution_count": 11,
>>>>>>> 3fe5af21fefda309b776280f4fd0f3679d22958b
   "metadata": {
    "colab": {
     "base_uri": "https://localhost:8080/"
    },
<<<<<<< HEAD
    "id": "sMEQJpynLjyo",
    "outputId": "6bde1272-5a57-489d-c1ba-bafd8ace2f62"
=======
    "id": "Hx6OrjOyemGG",
    "outputId": "3fff0b2f-2a00-4e8c-e9e1-3020ca8ef557"
>>>>>>> 3fe5af21fefda309b776280f4fd0f3679d22958b
   },
   "outputs": [
    {
     "data": {
      "text/plain": [
<<<<<<< HEAD
       "RandomForestRegressor(bootstrap=False, max_depth=30, max_features='sqrt',\n",
       "                      n_estimators=950, random_state=42)"
      ]
     },
     "execution_count": 9,
     "metadata": {},
     "output_type": "execute_result"
    }
   ],
   "source": [
    "rfc.fit(X_train, y_train)"
   ]
  },
  {
   "cell_type": "code",
   "execution_count": 10,
   "metadata": {
    "colab": {
     "base_uri": "https://localhost:8080/"
    },
    "id": "YJ_JOEx6LnR0",
    "outputId": "b77b0d4f-d4ea-49f5-8702-89d802cc1e17"
   },
   "outputs": [
    {
     "name": "stdout",
     "output_type": "stream",
     "text": [
      "[13.30379727 13.03101859 13.02749013 ... 13.11185038 14.38838788\n",
      " 12.96862194]\n"
     ]
    }
   ],
   "source": [
    "prediction = rfc.predict(X_test)\n",
    "print(prediction)"
   ]
  },
  {
   "cell_type": "code",
   "execution_count": 11,
   "metadata": {
    "colab": {
     "base_uri": "https://localhost:8080/"
    },
    "id": "IH7fc0OFOz2Q",
    "outputId": "2ac32be9-729e-4d23-baa2-d9adf83e8795"
   },
   "outputs": [
    {
     "data": {
      "text/plain": [
       "0.8598176556431427"
=======
       "{'bootstrap': False,\n",
       " 'max_depth': 30,\n",
       " 'max_features': 'sqrt',\n",
       " 'n_estimators': 950}"
>>>>>>> 3fe5af21fefda309b776280f4fd0f3679d22958b
      ]
     },
     "execution_count": 11,
     "metadata": {},
     "output_type": "execute_result"
    }
   ],
   "source": [
<<<<<<< HEAD
    "r2_score(y_test, prediction)"
=======
    "CV_rfc.best_params_"
>>>>>>> 3fe5af21fefda309b776280f4fd0f3679d22958b
   ]
  },
  {
   "cell_type": "code",
   "execution_count": 12,
   "metadata": {
<<<<<<< HEAD
    "colab": {
     "base_uri": "https://localhost:8080/"
    },
    "id": "lgo9Le5oPONJ",
    "outputId": "88ca3286-bb2a-44e7-b7cb-3212a69a2c50"
=======
    "id": "chM2PWh0Lb31"
   },
   "outputs": [],
   "source": [
    "rfc = RandomForestRegressor(n_estimators=950, max_features='sqrt', max_depth=30, bootstrap=False, random_state=42) "
   ]
  },
  {
   "cell_type": "code",
   "execution_count": 13,
   "metadata": {
    "colab": {
     "base_uri": "https://localhost:8080/"
    },
    "id": "sMEQJpynLjyo",
    "outputId": "6bde1272-5a57-489d-c1ba-bafd8ace2f62"
>>>>>>> 3fe5af21fefda309b776280f4fd0f3679d22958b
   },
   "outputs": [
    {
     "data": {
      "text/plain": [
<<<<<<< HEAD
       "0.03644753797406237"
      ]
     },
     "execution_count": 12,
=======
       "RandomForestRegressor(bootstrap=False, max_depth=30, max_features='sqrt',\n",
       "                      n_estimators=950, random_state=42)"
      ]
     },
     "execution_count": 13,
>>>>>>> 3fe5af21fefda309b776280f4fd0f3679d22958b
     "metadata": {},
     "output_type": "execute_result"
    }
   ],
   "source": [
<<<<<<< HEAD
    "mean_squared_error(y_test, prediction)"
=======
    "rfc.fit(X_train, y_train)"
>>>>>>> 3fe5af21fefda309b776280f4fd0f3679d22958b
   ]
  },
  {
   "cell_type": "code",
<<<<<<< HEAD
   "execution_count": 13,
   "metadata": {
    "colab": {
     "base_uri": "https://localhost:8080/",
     "height": 375
    },
    "id": "bybl9d62RlQV",
    "outputId": "cc12917b-4e26-4664-a707-db87c595d996"
   },
   "outputs": [
    {
     "data": {
      "image/png": "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\n",
      "text/plain": [
       "<Figure size 432x288 with 1 Axes>"
      ]
     },
     "metadata": {
      "needs_background": "light"
     },
     "output_type": "display_data"
    }
   ],
   "source": [
    "skplt.estimators.plot_feature_importances(rfc, feature_names=df.drop(columns=['PRICE'],axis =1).columns,\n",
    "                                         title=\"Random Forest Feature Importance\",\n",
    "                                         x_tick_rotation=90, order=\"ascending\");"
=======
   "execution_count": 14,
   "metadata": {
    "colab": {
     "base_uri": "https://localhost:8080/"
    },
    "id": "YJ_JOEx6LnR0",
    "outputId": "b77b0d4f-d4ea-49f5-8702-89d802cc1e17"
   },
   "outputs": [
    {
     "name": "stdout",
     "output_type": "stream",
     "text": [
      "[13.30379727 13.03101859 13.02749013 ... 13.11185038 14.38838788\n",
      " 12.96862194]\n"
     ]
    }
   ],
   "source": [
    "prediction = rfc.predict(X_test)\n",
    "print(prediction)"
>>>>>>> 3fe5af21fefda309b776280f4fd0f3679d22958b
   ]
  },
  {
   "cell_type": "code",
<<<<<<< HEAD
   "execution_count": 14,
   "metadata": {},
=======
   "execution_count": 15,
   "metadata": {
    "colab": {
     "base_uri": "https://localhost:8080/"
    },
    "id": "IH7fc0OFOz2Q",
    "outputId": "2ac32be9-729e-4d23-baa2-d9adf83e8795"
   },
>>>>>>> 3fe5af21fefda309b776280f4fd0f3679d22958b
   "outputs": [
    {
     "data": {
      "text/plain": [
<<<<<<< HEAD
       "['rfc.pkl']"
      ]
     },
     "execution_count": 14,
=======
       "0.8598176556431427"
      ]
     },
     "execution_count": 15,
>>>>>>> 3fe5af21fefda309b776280f4fd0f3679d22958b
     "metadata": {},
     "output_type": "execute_result"
    }
   ],
   "source": [
<<<<<<< HEAD
    "pickle.dump(rfc, open('rfc.sav', 'wb'))\n",
    "dump(rfc, 'rfc.pkl')"
   ]
  },
  {
   "cell_type": "markdown",
   "metadata": {},
   "source": [
    "## TESTES"
=======
    "r2_score(y_test, prediction)"
>>>>>>> 3fe5af21fefda309b776280f4fd0f3679d22958b
   ]
  },
  {
   "cell_type": "code",
<<<<<<< HEAD
   "execution_count": 15,
   "metadata": {},
   "outputs": [
    {
     "name": "stdout",
     "output_type": "stream",
     "text": [
      "[[ 4.16344792e+05 -3.56573545e+00 -1.46541764e+00 -1.12842663e+00\n",
      "  -3.23068392e+00 -5.42716116e+00 -1.55562690e+00 -4.45606225e+00\n",
      "  -3.01746248e+00 -1.72841249e+00 -4.22624675e+00 -1.74714752e+00\n",
      "  -9.42197434e+00]]\n"
     ]
    }
   ],
   "source": [
    "teste = np.asarray([[ 1.70000000e+05,  1.00000000e+00,  1.00000000e+00,  1.00000000e+00,\n",
    "           3.95124372e+00,  1.87000000e+03,  1.30000000e+03,  3.82864140e+00,\n",
    "          -3.24555500e+01,  1.15675834e+02, -2.65926004e+00,  1.00000000e+00,\n",
    "           1.98800000e+03]])\n",
    "\n",
    "teste = scaler.transform(teste)\n",
    "print(teste)"
=======
   "execution_count": 16,
   "metadata": {
    "colab": {
     "base_uri": "https://localhost:8080/"
    },
    "id": "lgo9Le5oPONJ",
    "outputId": "88ca3286-bb2a-44e7-b7cb-3212a69a2c50"
   },
   "outputs": [
    {
     "data": {
      "text/plain": [
       "0.03644753797406237"
      ]
     },
     "execution_count": 16,
     "metadata": {},
     "output_type": "execute_result"
    }
   ],
   "source": [
    "mean_squared_error(y_test, prediction)"
>>>>>>> 3fe5af21fefda309b776280f4fd0f3679d22958b
   ]
  },
  {
   "cell_type": "code",
<<<<<<< HEAD
   "execution_count": 16,
   "metadata": {},
   "outputs": [
    {
     "name": "stdout",
     "output_type": "stream",
     "text": [
      "[700195.22861637]\n"
     ]
    }
   ],
   "source": [
    "teste = rfc.predict(teste)\n",
    "teste = np.exp(teste)\n",
    "print(teste)"
=======
   "execution_count": 17,
   "metadata": {
    "colab": {
     "base_uri": "https://localhost:8080/",
     "height": 375
    },
    "id": "bybl9d62RlQV",
    "outputId": "cc12917b-4e26-4664-a707-db87c595d996"
   },
   "outputs": [
    {
     "data": {
      "image/png": "iVBORw0KGgoAAAANSUhEUgAAAXQAAAFmCAYAAAB9fWHDAAAAOXRFWHRTb2Z0d2FyZQBNYXRwbG90bGliIHZlcnNpb24zLjMuNCwgaHR0cHM6Ly9tYXRwbG90bGliLm9yZy8QVMy6AAAACXBIWXMAAAsTAAALEwEAmpwYAAA3ZElEQVR4nO3debwcVZn/8c+XsJqwE0TCjoyIC4sRRVCDuIAbKCoBNxyU4TeCMDICoiCIG6IOiCgDDgIugyiCOIKoSFRQlAhhB4msEYGwKYuIwPP745wmdTt9+9btqrpL5ft+ve4rXV2dp87t5bnVp55zjiICMzOb/JYa7waYmVk9nNDNzFrCCd3MrCWc0M3MWsIJ3cysJZzQzcxawgm9xSQdIelb490OMxsbTuhjTNKtkv4u6WFJd0k6VdK08W5XFZJmSXoq/06dnx+N4fE3kBSSlu7zmCMk/bOrjQdVPO6Y/sEs83uOpdyWZ493O2wRJ/Tx8aaImAZsAWwJfHR8m1OLOyNiWuHnTaMNIGlKEw0r+G5XGz/f8PH6miiJebQma7uXBE7o4ygi7gIuICV2ACQdIulPkh6SdJ2ktxT27SnpYklfkPSApFsk7VTYv6GkX+b/+zNgjeLxJL1Z0rWSHpQ0R9JzC/tulfQRSVdJekTS/0h6pqTzc7yfS1p1tL+jpOfmYz2Yj/3mwr5TJX1N0nmSHgG2l7S2pLMkLcy/34cKj99a0lxJf5N0t6Qv5V2/yv8+mM+8txllG/9V0vX5Ob1A0vqFfcdJuiMf8w+SXp7v3xE4FNgtH/PKwvP46sL/f/osvnCGvZek24FfjHT8Edp9qqSv5tfoYUmXSFpL0rE51g2Stiw8/lZJH83vqwckfUPS8oX9H5A0X9L9ks6VtHZhX0j6oKSbgJskdZ7zK/Oxd5O0qqT/y6/dA/n2OoUYcyQdldv5kKSfSlqjsH87Sb/J75U7JO2Z718uv+dvz6/7iZJWKPMcLXEiwj9j+APcCrw6314HuBo4rrD/7cDapD+2uwGPAM/K+/YE/gl8AJgC/D/gTkB5/2+BLwHLAa8AHgK+lff9S471GmAZ4CBgPrBsoV2XAs8EZgD3AJeTvkEsR0o+nxjmd5oFLOhx/zL5GIcCywKvym16Tt5/KvBXYNv8+z4D+ANweH78RsDNwOsKv9+78+1pwEvz7Q2AAJbu87wf0Xkuuu7fJbfxucDSwMeB3xT2vwtYPe87ELgLWH64mMXXt/sxhXaeDkwFVhjp+F2xh/ye+fm7F3gRsHx+jW4B3pPfH58CLupq2zXAusBqwCXAp/K+V+VYW+XX+3jgV4X/G8DP8v9boXDfswuPWR3YNb+OKwLfA84p7J8D/In0Xlwhb38u71uP9N7YnfS+WR3YIu87Fjg3H3tF4EfAZ8f7szwRf8a9AUvaT/5QPZzfvAFcCKzS5/HzgJ3z7T2B+YV9z8gx1sofiCeAqYX93ykkk8OAMwv7lgL+DMwqtOudhf1nAV8rbO9X/HB2tXEW8BTwYOHnHcDLSQlwqcJj/xc4It8+FTi9sO8lwO1dsT8KfCPf/hVwJLBG12M2oFxCf7yrjWsD5wN7dT0vjwLrDxPnAWDzQsxBEvpGhf2lj9/9e+bn7+Su1+j6wvYLgAe72rZPYfv1wJ/y7f8BPl/YN4108rBB3g7gVV3tGZLQe7R3C+CBwvYc4OOF7X8HflJ4nc/uEUOkE5GNC/dtA9zS5Od0sv64y2V87BIRK5IS4aYUukYkvUfSvPy180Hg+QztOrmrcyMiHs03p5GS0wMR8UjhsbcVbq9d3I6Ip4A7SGfjHXcXbv+9x3a/i7d3RsQqhZ8z8zHvyMcqtql4zDsKt9cH1u787vn3P5T0rQFgL9LZ3Q2SLpP0xj7t6eXMrjbemY95XOF495OSyAwASQfm7pC/5v0r09WVNYDu33nY45cw2teseOzbSK8RLP7+eBi4j+Ffq8VIeoak/5Z0m6S/kf4Ar6Kh10buKtx+tNC+dUln792mk7+5FZ6jn+T7rYsvboyjiPilpFOBLwC75L7Tk4EdgN9GxJOS5pE+4CP5C7CqpKmFpL4e6SwKUtfMCzoPliTSh+jPdfwuw7gTWFfSUoWkvh7wx8JjitN93kE689qkV7CIuAnYXdJSwFuB70tavSvGaN0BfDoivt29I/eXH0x6Pa6NiKckPcCi16PXcR8hJaCOtXo8pvt37nn8hqxbuL0e6TUi/1u8djCV1O1RfH+M9DwfCDwHeElE3CVpC+AKyr1/7wC27nH/vaQ/TM+LiCbfq63gM/Txdyzwmvzmn0r60CwEkPQ+0hn6iCLiNmAucKSkZSVtBxQrTc4E3iBpB0nLkD58/wB+U9Pv0cvvSAnuIEnLSJqV23TGMI//PfA3SQdLWkHSFEnPl/RiAEnvkjQ9/3F4MP+fJ0nP11OkPvfROhH4qKTn5WOsLOnted+KpG6shcDSkg4HVir837uBDfIfmI55wOz8+84E3lbh+E34oKR1JK1G+vbz3Xz/d4D3SdpC0nLAZ4DfRcStfWLdzdDnfEVS8n0wx//EKNr1beDVkt4haWlJq0vaIr/WJwP/JWlNAEkzJL1uFLGXGE7o4ywiFpIukh0WEdcBXyRd/LubdEZ9ySjC7UHqh76f9GE6vXCcG0kX+I4nnfW8iVQ++XgNv0ZPOfabgZ3yMb8KvCcibhjm8U/mdm1Burh3L/B1UjcHwI7AtZIeBo4DZkfEY7nr6dPAJflr+UtH0cazgaOBM3I3wTW5vZAqkM4nfaO4DXiMod0O38v/3ifp8nz7MGBjUl/7kaREOejxm/Ad4Keki803ky6cEhEXktp+Funb3sbA7BFiHQGclp/zd5BOTlYgvW6XkrpGSomI20l9+geS3r/zgM3z7oNJF44vzc/Rz0nfBKxLpzrCzFpO0q3A+yPi5+PdFmuGz9DNzFrCCd3MrCXc5WJm1hI+Qzcza4lxq0NfY401YoMNNhivw5uZTUp/+MMf7o2IngOrxi2hb7DBBsydO3e8Dm9mNilJum24fe5yMTNrCSd0M7OWcEI3M2uJUgld0o6SblSa/P6QHvtn5dno5uWfw+tvqpmZ9TPiRdE89eUJpIURFgCXSTo3zztS9OuIGO10pmZmVpMyZ+hbkxZVuDlPtnQGsHOzzTIzs9Eqk9BnMHSGuQX0nnx/G0lXKq1v+LxegSTtrbQm5NyFCxcO0FwzMxtOmYTea3L67vkCLictmbU5aXrWc3oFioiTImJmRMycPt0LjpiZ1alMQl/A0FVO1mHRKicARMTf8pJVRMR5wDLF1bzNzJYEs2bNYtasWeN2/DIJ/TJgE0kbSlqWNOn9ucUHSForL2mGpK1z3PvqbqyZmQ1vxCqXiHhC0r6k1VumAKdExLWS9sn7TyQts/X/JD1BWoJqdngaRzOzMVVqLpfcjXJe130nFm5/BfhKvU0zM7PR8EhRM7OWcEI3M2sJJ3Qzs5ZwQjczawkndDOzlnBCNzNrCSd0M7OWcEI3M2sJJ3Qzs5ZwQjczawkndDOzlnBCNzNrCSd0M7OWcEI3M2sJJ3Qzs5ZwQjczawkndDOzlnBCNzNrCSd0M7OWcEI3M2sJJ3Qzs5ZwQjczawkndDOzlnBCNzNrCSd0M7OWcEI3M2sJJ3Qzs5ZwQjczawkndDOzlnBCNzNrCSd0M7OWKJXQJe0o6UZJ8yUd0udxL5b0pKS31ddEMzMrY8SELmkKcAKwE7AZsLukzYZ53NHABXU30szMRlbmDH1rYH5E3BwRjwNnADv3eNx+wFnAPTW2z8zMSiqT0GcAdxS2F+T7niZpBvAW4MR+gSTtLWmupLkLFy4cbVvNzKyPMgldPe6Lru1jgYMj4sl+gSLipIiYGREzp0+fXrKJZmZWxtIlHrMAWLewvQ5wZ9djZgJnSAJYA3i9pCci4pw6GmlmZiMrk9AvAzaRtCHwZ2A2sEfxARGxYee2pFOB/3MyNzMbWyMm9Ih4QtK+pOqVKcApEXGtpH3y/r795mZmNjbKnKETEecB53Xd1zORR8Se1ZtlZmaj5ZGiZmYt4YRuZtYSTuhmZi3hhG5m1hJO6GZmLeGEbmbWEk7oZmYt4YRuZtYSTuhmZi3hhG5m1hJO6GZmLeGEbmbWEk7oZmYt4YRuZtYSTuhmZi3hhG5m1hJO6GZmLeGEbmbWEk7oZmYt4YRuZtYSTuhmZi2x9Hg3wMxs0pDqe1xEtbb04DN0M7OWcEI3M2sJJ3Qzs5ZwQjczawkndDOzlnBCNzNrCSd0M7OWcEI3M2sJJ3Qzs5YoldAl7SjpRknzJR3SY//Okq6SNE/SXEnb1d9UMzPrZ8Sh/5KmACcArwEWAJdJOjciris87ELg3IgISS8EzgQ2baLBZmbWW5kz9K2B+RFxc0Q8DpwB7Fx8QEQ8HPH0xARTgfonKTAzs77KJPQZwB2F7QX5viEkvUXSDcCPgX/tFUjS3rlLZu7ChQsHaa+ZmQ2jTELvNW3YYmfgEXF2RGwK7AIc1StQRJwUETMjYub06dNH1VAzM+uvTEJfAKxb2F4HuHO4B0fEr4CNJa1RsW1mZjYKZRL6ZcAmkjaUtCwwGzi3+ABJz5bSBMCStgKWBe6ru7FmZja8EatcIuIJSfsCFwBTgFMi4lpJ++T9JwK7Au+R9E/g78BuhYukZmY2BkqtWBQR5wHndd13YuH20cDR9TbNzMxGwyNFzcxawgndzKwlnNDNzFrCCd3MrCWc0M3MWsIJ3cysJZzQzcxawgndzKwlnNDNzFrCCd3MrCWc0M3MWsIJ3cysJZzQzcxawgndzKwlnNDNzFrCCd3MrCWc0M1siTFr1ixmzZo13s1ojBO6mVlLOKGbmbWEE7qZWUs4oZuZtYQTuplZSzihm5m1hBO6mVlLOKGbmbWEE7qZWUs4oZuZtYQTuplZSzihm5m1hBO6mVlLOKGbmbVEqYQuaUdJN0qaL+mQHvvfKemq/PMbSZvX31QzM+tnxIQuaQpwArATsBmwu6TNuh52C/DKiHghcBRwUt0NNTOz/sqcoW8NzI+ImyPiceAMYOfiAyLiNxHxQN68FFin3maamdlIyiT0GcAdhe0F+b7h7AWc32uHpL0lzZU0d+HCheVbaWZLhLavKNS0MgldPe6Lng+Uticl9IN77Y+IkyJiZkTMnD59evlWmpnZiJYu8ZgFwLqF7XWAO7sfJOmFwNeBnSLivnqaZ2ZmZZU5Q78M2ETShpKWBWYD5xYfIGk94AfAuyPij/U308zMRjLiGXpEPCFpX+ACYApwSkRcK2mfvP9E4HBgdeCrkgCeiIiZzTXbzMy6lelyISLOA87ruu/Ewu33A++vt2lmZjYaHilqZtYSTuhmZi3hhG5m1hJO6GZmLeGEbmbWEqWqXMzMbGRzxvn4Tuhm1h7qNVPJgI+LnjOcTGjucjEzawkndDOzlnBCNzNrCSd0M7OWcEI3M2sJJ3Qzs5ZwQjczawkndDOzlnBCNzNrCSd0M7OWcEI3s9JmzZrFrFmzxrsZNgwndDOzlnBCNzNrCSd0M7OWcEI3M2sJJ3Qzs5ZwQjczawkndDOzlnBCNzNrCSd0M7OWcEI3M2sJJ3Qzs5ZwQjczawkndDOzliiV0CXtKOlGSfMlHdJj/6aSfivpH5L+s/5mmpnZSJYe6QGSpgAnAK8BFgCXSTo3Iq4rPOx+4EPALk000szMRlbmDH1rYH5E3BwRjwNnADsXHxAR90TEZcA/G2ijmZmVMOIZOjADuKOwvQB4ySAHk7Q3sDfAeuutN0gIM5vMpPoeF1GtLS1U5gy91zM70DMZESdFxMyImDl9+vRBQphZH15RqL85+aetyiT0BcC6he11gDubaY6ZmQ2qTEK/DNhE0oaSlgVmA+c22ywzMxutEfvQI+IJSfsCFwBTgFMi4lpJ++T9J0paC5gLrAQ8JekAYLOI+FtzTTczs6IyF0WJiPOA87ruO7Fw+y5SV4yZmY0TjxQ1M2sJJ3SbdFzJYdabE7rZGPMfJGuKE7qZWUuUuihqZksIj+Sc1HyGbmbWEk7oZmYt4YRuZtYSTuhmZi3hhG5m1hJO6GZmLeGyRbPJxGWF1ofP0M26eCSnTVZO6GZmLeEuF6td5+x2zpw549qOnsp2WZR5bK8ui6bjm/XhM3Qzs5bwGfoSaEKfQU8Ac8a7AWYDckK3icVdFmYDc5eLmVlLOKGbmbWEu1xsdNwlYjZh+Qx9AvLAFjMbhBO6mVlLuMtlABO67M9dImZLLCf0bnUmRFg8KTYd38yWWE7oA5gz3g2Y4OaMdwMmuDnj3QBrrVYm9AndJVLCnPFugE1ac8a7ATaufFHUzKwlnNDNzFpicna5eNUWM7PFTM6EbmbjYs54N8D6KtXlImlHSTdKmi/pkB77JenLef9Vkraqv6lWlzn4g2nWRiOeoUuaApwAvAZYAFwm6dyIuK7wsJ2ATfLPS4Cv5X/HxZzxOrCZ2Tgqc4a+NTA/Im6OiMeBM4Cdux6zM3B6JJcCq0h6Vs1tNTOzPsr0oc8A7ihsL2Dxs+9ej5kB/KX4IEl7A3sDrLfeeqNt6yJNXshs+iKp41eOP6fh+JU4fqX4cxqOX9kEL6Ioc4beq1Sk+7cq8xgi4qSImBkRM6dPn16mfWZmVlKZhL4AWLewvQ5w5wCPMTOzBpVJ6JcBm0jaUNKywGzg3K7HnAu8J1e7vBT4a0T8pTuQmZk1Z8Q+9Ih4QtK+wAXAFOCUiLhW0j55/4nAecDrgfnAo8D7mmuymZn1UmpgUUScR0raxftOLNwO4IP1Ns3MzEbDc7mYmbWEE7qZWUs4oZuZtYQTuplZSyjGaeSTpIXAbQ0eYg3gXsd3/CUw/mRuu+OPbP2I6Dkyc9wSetMkzY2ImY7v+Eta/Mncdsevxl0uZmYt4YRuZtYSbU7oJzm+4y+h8Sdz2x2/gtb2oZuZLWnafIZuZrZEcUI3M2sJJ3Qzs5ZwQi8hTx/cZPzPNBm/bSQtI2lLSWvWFG91SftJOiH/7Ctp9TpiT3aS3jrOx192PI8/2bQioUvatHB7ua59L63hEP9aQ4x+dmwyuKT1Ja1c2N5e0nGSPlzXB0bSFElrFLaXlbS3pOtriH2ipOfl2ysDVwKnA1dI2r1i7OcC1wAvAv4I3AS8GLi6+L6qeIxjC7f379p3asXY7yrc3rZrXx0nIh+vIUZfkg4b5v6VgZ82dMyNJX1c0jUV46wh6ROSPiRpmqSvSbpG0g8lPbuu9pbVioQOfKdw+7dd+746lg0Z0BRJq0parddPDfHPBKYCSNoC+B5wO7A5NTw/kmYD9wNXSfqlpO2Bm4GdgHdWjQ+8PCKuzbffB/wxIl5ASsIHVYx9FLB/ROwZEcdFxLER8V5gP+DTFWN3vKJw+71d+15YMfaHC7eP79rX9IlIXV4uachzLWkt4FfAL+o6iKRnSTpA0u+Ba0kL9lQ6ISDlnuWATYDfk973bwP+D/h6xdijVmqBi0lAw9zutT2IF0r62zDHjYhYqWL8TYE/MPxi2xtVjL9CRHTWeH0XadWpL0paCphXMTaks7gXRcR8SVuR/qjOjoiza4gN8Hjh9mtIf5CIiLukyi/vCyLibd13RsRZNXaF9Xt/Nhm7jmNtKumqYY4bEVH1DxLAm4HvS/pSRHxY0ibA+cAxEfHfVYNL+gApca9DOrl5P/DDiDiyamzgmRFxqNIb8baIOCbff4OkMV/0py0JPYa53Wt7EFdHxJY1xBnOdQ3HL36wXwV8FCAinqohIQI8HhHzc8zLJd1SYzIHeFDSG4E/A9sCewFIWhpYoWLsRwbcNxpLSVqV9I24c7vzxE+pGLvp9/4twJtqiDOsiHhM0luAMySdAWwDHFDje+gE0knGHhExF0BSXQNwnoT0l01S94RcT9V0jNLaktDXkfRl0oekc5u8PWP8mjVh/ELSmcBfgFXJX2MlPYuhZ7+DWlNS8av/tOJ2RHypYvx/A74MrEX6oN+V798B+HHF2N1t7xDQc0a7AazM0G9glxf2VU0snTNoARsXzqZF9W92kP5YNzkrKoXn//ekLrRfAxt27q/h/bM28HbgS5KeSTpLX6ZizI6NJJ1Lfr7zbfL2hjUdo7RWjBSV1N0vOUREnFYx/qER0VgliqQ9I+LUrvtWBR6MGl6g/HVwN+BZwJkR8ed8/5bAmhFxQcX4n+izOyLik1XiN2mEtlPT1/LGSFq/3/6qyVjSVyKi6SqvMXsNJK0DzCZ1wTwDODsiDq0Q75X99kfELweNPYhWJPSm5T64ORFxU06OpwC7ArcCe0bE5f3+f4n4h5MS7Q25SucnpAuWT5C+Jv680i8wjiS9OCIuqxjjy/32R8SHqsTvc9wDIuLYmmItTbpI3KmcuQ64ICKeqCn+KqQLc5AuGv+1prhvAq7q/GHI79VdSWsZ7B8Rt9RxnPEg6TnAbk2dcEjaNiIuaSL2sMdsQ0KXtB2wUUScnre/D3SqQz4VEZWulOfSpi0j4p+S9gAOBF4LbAl8IiJeXjH+tcDzcz/c3qSzh1cD/wKcFhFbV4z/EEO/2itv13VRt/t4m7HoLOivVeeGlvQ4qbTwTOBOui72Vf0G1ue4t0fEejXEWRu4iNTldQWp/VuSupC2L1ywHiT2sqTJoHYh9XcLWB84G9gnIip1qeUunJdGxKP5OsaXSK/rlsDbI+J1VeLnYxzeZ3dExFEV4x8UEZ/Pt98eEd8r7PtMxTP0KcA7SF27P4mIa/LzdCipGKHJa2OLt6clCf1CYL+IuC5vXw3sSSrVOzQiKtV5S5oXEVvk298BfhcRx+XtyyNiq4rxr+i88JLOAn7aubpfU/xzSMnjB8AZEXF7lXjDHGN90gd9d9I3i/WBmRFxaw2xVyf1ge6WY38XOCsiHqgae4Tj3hER69YQ51RgXvfZvqQPkaqD+nYZjhD7k8DGpOT9UL5vRdKFwNsiomeN9yjiXxkRm+fbpwA3RsTRebvyezPHObDH3VNJF79Xj4hpFeM/3c7uNlf9HfJruy6p//8lpG8u2wCHRMQ5Vdo9kIiY9D/AZV3bPyjcvqSG+JeT+p+XB+4GnlfYd30N8S8Fnk+6CHc/sGFh3w01PUcrk2q4LwB+Cfw7sFpNsX9Dqus9DNgk33dLQ6/1DOA/SWfq7274fXV7TXGGfQ1JCbJK7GuAZ/S4fxpwTQ1tvyrHWoqUrGYW9l3XwHO+IqkM9hbgaNI1nqoxr+h1u9f2gM//Uvn28sDDwFp1Py9lf9pS5bJKcSMiisOVn1lD/MOBuaQSs3MjD3LJF0RuriH+AcD3SQn9vyL3S0p6PekremWR+lS/Iek00pnu8aQ3YNUKAoCFpBrfZ5J+h5uop2RuiFzjvjupFv18UuVI1Zid7qhiN05nu2pJZMff++x7tGLspyJisRgR8XBNpXnHksYq/I108tIp+9uS1IVUizyA7sOkgWinAVtFfd/AmiztfDwinoKnyy//GIuqsMZcW7pcfgScGBE/7rr/jcD/i4g31HCMpYEVi28ySVNJz+HDVeM3TdLLSMnw5cDFwHcj4tc1xl+ZdLFsd+DZpD+yr4uI39cQ+0jgjcD1wBmkvspaLiaOBUk3k75VLLYL+HxEbFwh9pXALHoPIroocndJFZJmAGsCV3aSVy55XSZq6L6TdAzwVtK1gBPq/jxJepI0pqDzR7rzB1DA8hExcAmjpEeB+YV4G+ftOgdelW9PSxL6s0n1yL9hUY3vi4CXAW+MiD9WjN93gqKI+EHF+L3qoIvxK51FS7oVeJCUDH9B6ocuxq9UpdPjeGuSvgXsDqwbFfuhJT1F+ibUOdPtvGlr+9AoTVfwvBz72oiYUzVmIfY3+u2PiPdViH0raQBLz1HGEVGpFj1/KxpWHe+d/Pr+g/S+XOzifdR80b5OTZeNjlYrEjrQmZTrnaQPJaQ+3e9ExGM1xO73gYyIqDRnRtN1uJLmMPxXy4iIV1WJP8KxN4mImyrGaOxDk88+fwA8xqLBP1uRzuTeErlmf0kl6aI+uxt97zQtl3p+MCLqmrNn3LUmoXfL3SG7kOq4K3e52PAkXRwR2+Xb34yIdxf21VIJkWNtyKKz6OsjovL1C0lnk+b1OLXr/vcAu0bEzjUco/sbWAD3AhdHxTruHmfQAdwbEXdUiTve6vz8SlqXdMF+beAc0oRaRwHvIZ307T/8/x4xdndJcOe1vQg4OCLuGzT2INpyURR4uib39cAepClpzwJOrCn2c4C9WTQw5HrgpKrdOYX42wP7dsX/Sl1f/XM3yAdZlBCvI/VX3lND+KmF28/r2ld5shhJK5FmrptJukAnYHNJfwD2ioheE6eVtVlEvKX7zog4XdLHKsQtWrHHfRsAH5N0REScUSH2F3vct1r+LOweEfMqxAaeLhvdg6Hvze9ExP1VY3cdp6nP7+mkyq6zctxLSd/gX1D1AmZELPbaKo3y3pPU9rdXiT9Igyb9D6nq4RTS5E3fIk0mdGuN8bchXdE/EtiZdOZwJKl07qU1xH8DqUzrfaQRoluQpj69GXh9DfG3JZWcHUma2W7nfPtWYNsa4l/e63av7QHjnwocQS4Py/eJVH10esXY84e5f6nh9tX4vlqtjudnmNgzgV/VEOe5+b1/KrA/qSLrtPze37Smtjb9+b2ya/tuYLkmX9t8nEZe277HHOsDNvTEPUX6C1ys3765xvjnA7N63P9K4Pwa4s8BNu9x/wuBX9YQ/1LSSNfu+7cgDZKqGv9m4C2kKpebSRULb83bf6oh/k2D7CsZ+7+Ak4GphfumkiouvlzXe6jP8a9oMHYdf0y/D7yjx/27kgZ31dHOpj+/V5ImpVst/wzZbui5X4Y0ZUKj75/un7Z0ubyINNT857lE7AyqT0tatHH06PqIiF9KOqmG+GtFxJU94l+lNDtcVStFxGL17BExL48qrOqXpDP/zu3idKu/qiF+3XOIFx0EfBa4TVLn4up6pLPQgYeElyHpVUAjo13z+6aOC2RjMV9805/flVl8vYFOdU5QYVbKYSrgViVVeX1/0LiDakVCz8nqCuBgpWW4dgeWlXQ+aTa1qkn3oT776pgzu+k5uSVp1egaqJEHc9SxatUR0Wx51iV5vo+jIp/+ACgtXXZplcAR8U/gP3OsZ5M+9POjx2CdQeWpKLqT62qkbov3VIx9/DCxX0bqIqmq8fnim/78RsQG1Vs5rO654gO4DzguusbFjIU2V7ksRZrg6gMRUenChKR7SGcNi+0ifR2tdBYt6UF6n8kK2C4iVq0Yf2/gA6TBLcU6/aNJqxdVWhVG0nzSRcsvRAMDfvJF0f8hlRPOI31otiL9LntFhZkFJb0YuCPyxbFOdQvpmsMRUcOFP6UVeIqTZAVwX0RUTohafOroTkK5LGq44C1pAb1HE4s0N33luW6GOW5tn99h4m9MnkAuIp5fd/zx0pqEnuuJn0Xqt3o8V3UcQJredu2Ksbs/NENE9fnWXzlC/MpzKudRswcxtE7/mIj4UQ2xVwQ+SVoNab+IqKObpddxNgY2IyWTayPiTzXEvBx4dUTcL+kVpD/c+5GuLzy3V3fDIMeImko3e8Q+NSL2bCJ2jt/oGInCcRr7/BaO8SxSV8gepOtTnyXN+3R1hZjL55gPAD8CPkJaQ/ZPpG+U3asYNaoVCV3SAcDHSENulwOOI51VnE4aWl3bnBMjtOP4iNivwfhnRcSuTcWvStKLgAuBBSwavRhRz0jOZVk0cKxTdvmdiPhHxbjF2QRPABZGxBF5e17kWTYrHuOKaGga1Sb/WIyyHR+NiM8O+H8PoMHPrxZfU/RM0tiDyisKKa0E9k/ShfRVSZN1/QjYDtgiIt5Y9Rij0Yo+dFJ9+HPyWdZ6pDfGKyKiUv/qALZtOH6Vizc7AYcwNCEeHRHn1dGwfIHvOFLXywnUuJ6i0vzq5wKXsOji1ixSHfebI0+bPKApkpbOXUU7kN5LHXV9Pqb3m94hqk3t8AylibJ6XjiOmqd16OPtpDPeQTT9+W1yTdHNIuL5SnM9LYiIzrftnyjNszOm2pLQH+v0dUbE7Uozno11Mh8LA70J8xnKv5G6XObmu2cCn5O0TtWLTkoL+84gfWAG/vrax/GkSdZ+1nXcV5M+rNtXiP2/wC+VFvj9O2k9y878QLWs+kOq2JhGM9U6M0iDi3rO5ULqBhsLVX63pj+/Ta4p+jhARDwhqXuhkidrOkZpbely6b5oObu4HQ0tUdajHY1+/R00vqTrSBdX7++6f3XS8PPnVmzXByLi5BKPe+8g1xsk3RARmw6z7/oa2v9SUv/tTzsXKiX9CzCtc4bbq0poFPGb7ENvrDtnlO0Y+Hccy8+v6l9TtNP2zrq9nXbXUjAxWm05Q/9I13blebIH1GS9dJX46lWtERH3SdWbXCaZZ/uT6rtHaylJy3X3l+cLUpXfw73OBmPxKR0uJFXWDKLp98VEUOV3HLPPb0QsAL4AfCFP5zG7s0/Sa7q/BZZQbPvcrn3d241rRUIf7qwvf+C760SbdFzD8Q8e8P/9TdLm3YOXJG1O/xr7ug36oT8dOEvSvpGXtJO0AfBl4Jv1NG1EVRLWa3PNf08VSyMPqvB/6/S9kR/SW9lvbXUXHUTEjaQpMDqOBkaV0KtWuNWtFV0uRUqLtr6W9JXqdcCvq5aeKS2gMewTFRFvHm5fyfgX9YkfEbFDxfjbAd8GvkE6+wngxcB7gXdFxMVV4o+iHVW+lu9LSl7PyHc9Qqp7P76u9o1w/Cptv4XFV0XqiKgwZ/kwg5ag3gqj7UmlnM/Jd9U6cdwo2tF0l+aou6965IanZ1uMiG/V2b5S7WlLQs81xHuQJrr6PaniZKOoYcRfoU5cpHk/3l/cX7VOPJf7dXspKYHdExEvrhI/H2Mt0jqizyPXcZNmWxyz5bLq6O/NNe9EXhB5rEyU8sBuaniBBUlvAL5CGmdwOTw9X/zHgX3rqpIq2ZYJd41qmDEkqwHvIs0zdEgtjSsrxnjymCZ+SHXPvwHeTVomDppbpPiKhn+XVwI/J1Vb7DQGz13l2RZHcayvVPi/U4A1CtvLksrdKi/S3fTrnts+rbD9UtLgk1d03q8VYv+04d97Dg1OHDfKtjQ6e2Gd8fNrPm8sn5+I9kzOdRZpStvdgCcl/ZAGFinOGokr6XWkSfgfAz4dERfVGHsK8A5Sidv5EXFtHjl6KGllnspVEuo9X/zJkfopAYiIfQeMPRv4b+ARSTeRptL9JnAZabBR7bT4ajZVur2OBu4BPp+3/5c0AGV50lnvoNdGIC3K3aSmJ44bjaYvLt9aV6CIeLKOgoPRakVCj4j982iz7Ul958cAK0vaDfhxVFx0tuuC1hSlCeyffrWi4nwfki4jfTCPIQ2AGLISTVQfHPI/wLqkrqjjlWYV3AY4JCLOqRgbSduQlnH7b9K0syL9kbhI0lujek3xx4EXRcT8/Lz8FpgdEWdXjNtvNZt3kxIvUPk13oF0zaLjwYh4k9InvupC3Surz5q3UXG9W8Zgcq5RqLXoQNJrgIMi4jUAEdF37eBhYvS62L0qadK1a6u1cPRa04deJGkZ0sokuwOvjYg1KsZr7KJWjj+HRWf+3ceJqLhuo6RrgBdGxFO58ude4NlRU/+50qx4R0fXRbLcv3hIROxUMf6Qvs1+dekDxL6INOXvb0nvmR1IH8T/qPH5eXp6gbz92oj4ab49LypMLyDpPuCHDP/erLre7YM0OHFcPkbTRQevIq0e1Pmj/RlS5ZRI34YH/qPXIzc8RZocbQ7wqai2mtaoteIMXdLOwDoRcUK+62JgzXz7P6rGjxrmfBjBITWcxfbzeEQ8BRARj+WReHVeDG16vvg1u4bOTytuR7Wh86tFnrsFuEDS3cCLo+IcMV2WlbRi5Au5hWS+MqnbpYrbqibtEezcZ98XajpGJ07PooMafJHUHfhbYCfSlMuHRUQdZ/y7kWbr/AvQmchvV9LrOub5tRUJnVQNMruwvRxpaPtUUqlepVrl3L+9YkR8v+v+PUiTOY12MEK3rzL4oJUyNpV0Vb4tYOO8XVdpW9PzxZ/M0HU5u7cr6epCu4s0P8pUqN6dlp0MfFfSPhFxez7m+sDX8r4qenbUdsZgRMTA9eFQz0yfozmGpIcbOGYUTjjOkbSwpmQO6cz/1fB0pd1nWTRb50lA5dk6R6MtCX3ZGLrK+cWRVtu+r/PBrOhIeg9Q+gVwNqMcjNBD01dPKg2NL2FdSV/ucb9IF2IriZqmaB1GY6vZdETElyQ9ClxceD8+DHwuIr5WMfy7Ozd6jcGgwoCfHHMT0sXzB0gzIJ4MvJw0PexekSe7qlETfcCrdF1nUHG74nWGKYU/+ruRFo4/izQQbl6FuANpRR+6pPkR8exh9v0pIjauGP+q4c5i++0bRfwH6bNUW9U+xMJxVgE2yZt/jAoLQ3TFbXq++F5/LIrxx2SunjpImkb63NVWR9/wGIyLSf3NK5G6Lw8gTQ/7clIf8UtqOEbxwuJFpJk06yw6+Eaf3ZWuM+TrU1tEmpzrBmDvyOsBSLomxnjxjLacof9OPSaIkvRvpDd4Vctr0RSrxfjLkMr+qlpI6udrhNJc4ieRSjtvIX1Y1pd0NrBPRDze57+PqF/CllRHP2txbo8jgb6LLlSlmlezUVoFqfu+p29HxOkVYi8Abid133wkIh6SdEsdyTybFnk2ztxl1Dnj/5mkY2o6Rmf0cudJKVZ1Vf6WFBHvq/L/RzAWs3WW1pYz9DVJV6//wdAl1pYDdomIuyvG/xzwTNLIuM5sfFNJc4ncGxFV6ogbnzFP0ieBjUnJ+6F834qkqWdvi4jDGjz27RGxXo3xGnmu1MBqNoXYvaYnEKkbb0ZEDHxiJek40h/qq0kllz8Erq5aeVWI/3SFUY9qowk5erYXSc8nTaRVXA/gCzW9viPO1jlWWpHQO3J50tNLrEXEL2qKuzTwKdLV99tIH8Z1SfXdh0VaaLhK/B8MUgM7ivjXAFt3n7Xlr/+XNvm1UNIdUeO6k3UnETW4ms0wxxNpMNTBpKTy6Yi4qv//KhWzMwbj9aTukb2A86L6GIxHSQtOiHRSML+zi9StU/kaVdNFB7kK7gukP9JzSW1/EfBR4D8j4odV4k8krUroTZO0AmlleEgrw/+9priNLlQ8wjWAqyPiBRXjDzeToIArI2KdKvG7jlV3Qn+cVM52YCxazebmus5wC8dZGtgTOBD4HfDZKIyirfE4dY/B2IT07fSOrl3rA3dGxPzF/9eoj3EpqSJnYdf9a5HmK9+mYvwrgZ0jz9RZuH8D0h/vzXv9v8moLX3ojepKuFfnhPsppRGXlRMuaYRlsfTpc9Rb+hRdpXlFdSwV190HWlTp2wuApIdYVP3wDEmdwRqdssuVKoRvcjUbACR9kDQX/IXAjlFxwqx+8rfFHwE/kvTRGkL+F3Bod5slTc/76pie+hndyRwgIu6qqUptme5knuPfmv8AtobP0EtQwyvDq+GFiiXdyqJFm7tF3WejdZO0TNVurZLHqXU1m0Lcp0hzuSxkaFlebVPcDnPcytcv+lVq1PHtLsf5I2ltzl5FB9dFxCa9/2fp+FeSvgHc3nX/+sCPmnr+x4PP0Mtputa00YWKI2KDqjH6UWHemWGOX/XC0O9oduAV0HM1m91qCt30SOPh1DG+od9I1joqvCDNA3Sy0gIm3UUHVeeigVQV9XNJn2HoegCHUG1itAnHCb2cpleGb7T0SdK7Ik+2L2nbiLiksG/fiPhKxUP0K7msY6HixgZeSTooIj6fb7+9U5YXETcqjbasrNNdIWlDFlVZXB8RN9cRv9+ha4hx2TAlwXtR31JxHycVHdyWuzGHFB1UDR4R5yjNuXIg6Zt1Zz2Ad0SPmSQnM3e5lCDpY6TqgXuB9YCtIiJywj0tIrat4RiNLVQ82UvPcq31sPO1RIW5XMbiuZG0EvB10nQU80gJZXNSQtwrKkzg1HV9YcguYIUqJZE5/jNJo6EfZ1ECn0maj/4tUeOcQE0VHXQdYxqpm2usZ4ocEz5DLyEiPi3pQhYl3M4HaCnSX3xg8ISbj9HkQsUa5nav7dEHX3z61s4yXPOinhGRU4BpNHOm3uhzk32ZVKI4O/IkabnU8DDSakCLDTwqKyJqm9NmmPh3Ay9TWoau05f+47pKgmFMig6Q9O+kLpapefth0gyhX60aeyJxQi+p4YRb1qAJpnvNw+H2DapXpcNqwAsl7VXDh/8vEfHJijGG0/RzA2lVqD2HBE4nBZ9UWrBjwou04Epti650abTKS9LHgZcBszrdXJI2Ao6TtFpEfKpK/InECb1eTU+yNWiC6cy2WJxpkbxdx+RTPYdW5yqCM4Gq830MN6PguqSz3ipD0F+YyyAFrNBVEllLHzrNvy8mu6aLDt5NWkbvsc4dEXGzpHcAV5L671vBCb1eE/WCRNOzLfYUEbfVVOf79PJvktYg1Y13RndWrYL4GfDvEXFLxTj9XCLpcOCoQncdkg4jzc29pGu66IBiMi/c9/dcUtoaTugTgHpM/DXcQweJ32sgS06M9xUTTN1y6V8dC0X8M/er7gH8C+ki3UY1jUA9BfiJpNOAYxqqd9+PVLExP59xBmmJvitIQ/SXdE1PcLVA0g4RcWHxTqWpQv5SQ/wJw1UuJZRNuBpw4qiy1RS5v2/UF4hyBc3ngPtJ62V+E1iDdFH3PRHxk9HG7Irfawmx1UgXkd8VEb+tGP/vpFkzP06a6z7qHJ6fa54PJw2Z/yaF0bNVKmh6HGdjYDNy2VxE/EnSARFxbF3HmKwarvJ6HmnSsosZWoe+LWlKgDFf+7MpTugljEHCHegPwSjizyUtUrAy6SLTThFxqaRNgf+temyltUOLgrSu4k1RcWreHP8/SCM4p5JmFPwu8LMaE/qypAqIPXLsYkJvcnGN2mejbLMqZaR5TMEepHEAnTr0b5P61n9XXyvHlxN6CWOQcBurs87xn54+QNL1EfHcwr5GfrcmunRyZcLupOS+CWkE4Nk9qo1GE3NH0nN/LvDJqG8e8bLHr3U2yjZr4r3atj+o7kMvZ7qGLlI8RA1fy5uss4ahE3B1D9aonHD7delIqtyl05FLzj4NfFrSC0hnXOeTpnUd1MeAt4/j126fUZXXxHPVqgokJ/Rymk64TdZZA2zecGneV1jUpfMLurp0gFoSepe/kGYBrDSjYES8vKb2DGuk0ZxNH9/6atUfVCf0cppOuI2eJUTElCbjA0tHxE8BJH2yMwgrIm6Qqv9qY/UNoClNj+ac7Jqu8hrmon0n3uqDxJyonNDLafpr2c4qTBGby/1eT1oero7Z5prWaJcO4/MNwMbO7yk3wnqHkR/SU791betY83bC8EXREiStRzpLbyThSvoVaZKmm3Lt7e9JV+A3A35ftVuhaZKeBB5hURdC58KigOUjotLgovG4qGtjZwyKDtaLrrnQ28pn6OV8izQApJNwf0tKuG+U9OIaEu6qEdGZ0+O9pFLC/XI53R9Iax9OWGPQpdP0NwAbX00XHZxD/gYg6ayI2LVivAnLCb2cphNuMSm9CjgGICIeb9vQ5AE1fVHXxlfTRQfFuBN6da6qnNDLaTrhXiXpC8CfSfNBdy4wrlJD7ElvDL4B2Phquuig34yareKEXk7TCfcDpEWENyCt1N7pg96Mll20Meuh6aKDft/wIqotMj6h+KJoCXkllf1Jc02cEnnZKkkvAzaOiG9WjL9SDLNqzZJ0QceWTE0XHSxJnNBLaDrhaugyaBdGxA699pm10WSv8ppIlhrvBkwSczo3lJaiKzqnhvjFr5yr9dln1kY9iw6AnYA3jl+zJh8n9HKaTrhjsQya2UTVXXTwM0hFBwwtWbUR+KJoOU0n3DVzHa4Kt8nb02uIbzaRucqrJk7o5TSdcE8GVuxxG+DrNcQ3m8hc5VUTXxQtQdIn+u1vchEESVM7K7iYtZGrvOrjhF5RXQlX0gxSWeRVecDSmsABwJ4RsXbV+GYTlau86uOLoiVJmiFpZh7uj6Q1JX0GuGmE/1om9gHAPOB44FJJ7wWuJ0109aKq8c0mOFd51cR96CXkhPsxYD6wnKTjSMuWnU49CXdv4DkRcX8eZDEfeEVnXnGzlnOVV02c0MtpOuE+1llcOiJul/RHJ3NbgrjKqybuQy+hux9P0jUR8fwa498DnFG4a3ZxOyI+VNexzCaa8Sw6aBsn9BKaTri5z3xYEXFalfhmk5WrvEbHXS7lfKRr+w91Bh8uYUtaHnhTnccym4j6VXkBrvIqyQm9hLFMuJKmAK8FdgdeB/wa+F6dxzCbSMag6GCJ4S6XUeqVcCPibTXEfQWwB/AG0mxz2wIbFUbNmbWSpOuA7VzlVZ3P0EsaJuFuWEfClbQAuB34GvCRiHhI0i1O5raEcJVXTZzQSxiDhHsWsAuwG/CkpB/i+ltbcqwj6cuF7TWL267yKs9dLiXkPr1dgKuB7wA/BK6OiNoWnJUkYHtSV87rgZWAvYDzIuLhuo5jNtG4yqs+TugljWXClbQMsGM+1msjYo0645tNBp2ig4hwUUBJTugDqDvhjjDb3HMj4voq8c0mi6aKDpYUTuglNJ1wPducLelc5VUPz7ZYzpzOjR5rin67hviebc6WWLno4HPAJcBmEbEr8Hcn89FzQi/Ha4qaNecsYAapyutNkqbi9/1AXLZYjtcUNWtIROyfR4t2ig6OAVaS9A5c5TUq7kMvIX8l/BIpwf5Hvk3ePiAi1q0Y37PNmWWu8hqcE3oJTrhmzXGVV32c0CcASYf32R0RcdSYNcZsjLnKqz7uQy9hDBJur/mep5IGLq0OOKFbm7nKqyZO6OU0mnAj4oud25JWBPYH3kdaROOLw/0/s5ZwlVdNnNBLGIuEK2k14MPAO4HTgK0i4oE6YptNcK7yqokTeklNJlxJxwBvBU4CXuAyLVvCnAys2OM2wNfHvjmTly+KltCVcE9oYDKup4B/AE8w9CumSH30K9V5PDNrJyf0EpxwzZrjKq/6OKGb2biSdGCPu58uOoiIaWPcpEnLCd3MJoxC0cFewJnAFyPinvFt1eThi6JmNu5c5VUPJ3QzG1eu8qqPu1zMbFy56KA+TuhmZi3hBS7MzFrCCd3MrCWc0M3MWsIJ3cysJf4/Zi6tBiaAheUAAAAASUVORK5CYII=\n",
      "text/plain": [
       "<Figure size 432x288 with 1 Axes>"
      ]
     },
     "metadata": {
      "needs_background": "light"
     },
     "output_type": "display_data"
    }
   ],
   "source": [
    "skplt.estimators.plot_feature_importances(rfc, feature_names=df.drop(columns=['PRICE'],axis =1).columns,\n",
    "                                         title=\"Random Forest Feature Importance\",\n",
    "                                         x_tick_rotation=90, order=\"ascending\");"
>>>>>>> 3fe5af21fefda309b776280f4fd0f3679d22958b
   ]
  },
  {
   "cell_type": "code",
<<<<<<< HEAD
   "execution_count": 17,
   "metadata": {},
   "outputs": [],
   "source": [
    "teste2 = ([[ 1.31514882e+01,  3.00000000e+00,  2.00000000e+00,  2.00000000e+00,\n",
    "             4.93447393e+00,  2.01300000e+03,  2.69000000e+04,  8.49699048e+00,\n",
    "             -3.21934703e+01,  1.15859554e+02,  1.70916095e+00,  1.29000000e+02,\n",
    "             2.01900000e+03]])"
   ]
  },
  {
   "cell_type": "code",
   "execution_count": 18,
   "metadata": {},
   "outputs": [
    {
     "name": "stdout",
     "output_type": "stream",
     "text": [
      "[[-0.42965472 -0.89997173  0.23589087 -0.15445854 -0.61014886  1.09933878\n",
      "   0.78468341  0.60007617 -1.45556367 -0.04377119  2.08739396  1.39948038\n",
      "   0.68016718]]\n"
     ]
    }
   ],
   "source": [
    "teste2 = scaler.transform(teste2)\n",
    "print(teste2)"
   ]
  },
  {
   "cell_type": "code",
   "execution_count": 19,
   "metadata": {},
   "outputs": [
    {
     "name": "stdout",
     "output_type": "stream",
     "text": [
      "[414969.43151212]\n"
     ]
    }
   ],
   "source": [
    "teste2 = rfc.predict(teste2)\n",
    "teste2 = np.exp(teste2)\n",
    "print(teste2)"
   ]
  },
  {
   "cell_type": "code",
   "execution_count": 20,
   "metadata": {},
   "outputs": [],
   "source": [
    "teste3 = ([[-0.33399557, -0.89997173, -1.46541764,  0.81950955, -1.23379563,\n",
    "         0.23218144, -0.46774828, -0.68202706,  0.24561533,  1.13650472,\n",
    "         0.35657949, -0.49341297,  0.02841612]])"
   ]
  },
  {
   "cell_type": "code",
   "execution_count": 21,
   "metadata": {},
   "outputs": [
    {
     "name": "stdout",
     "output_type": "stream",
     "text": [
      "[380228.76424123]\n"
     ]
    }
   ],
   "source": [
    "teste3 = rfc.predict(teste3)\n",
    "teste3 = np.exp(teste3)\n",
    "print(teste3)"
=======
   "execution_count": 19,
   "metadata": {},
   "outputs": [
    {
     "data": {
      "text/plain": [
       "['rfc.pkl']"
      ]
     },
     "execution_count": 19,
     "metadata": {},
     "output_type": "execute_result"
    }
   ],
   "source": [
    "pickle.dump(rfc, open('rfc.sav', 'wb'))\n",
    "dump(rfc, 'rfc.pkl')"
>>>>>>> 3fe5af21fefda309b776280f4fd0f3679d22958b
   ]
  }
 ],
 "metadata": {
  "colab": {
   "collapsed_sections": [],
   "name": "rf.ipynb",
   "provenance": []
  },
  "kernelspec": {
<<<<<<< HEAD
   "display_name": "Python 3 (ipykernel)",
=======
   "display_name": "Python 3",
>>>>>>> 3fe5af21fefda309b776280f4fd0f3679d22958b
   "language": "python",
   "name": "python3"
  },
  "language_info": {
   "codemirror_mode": {
    "name": "ipython",
    "version": 3
   },
   "file_extension": ".py",
   "mimetype": "text/x-python",
   "name": "python",
   "nbconvert_exporter": "python",
   "pygments_lexer": "ipython3",
<<<<<<< HEAD
   "version": "3.9.7"
=======
   "version": "3.8.8"
>>>>>>> 3fe5af21fefda309b776280f4fd0f3679d22958b
  }
 },
 "nbformat": 4,
 "nbformat_minor": 4
}
